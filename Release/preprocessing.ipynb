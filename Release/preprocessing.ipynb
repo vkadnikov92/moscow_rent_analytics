{
 "cells": [
  {
   "attachments": {},
   "cell_type": "markdown",
   "metadata": {},
   "source": [
    "# Начало анализа"
   ]
  },
  {
   "cell_type": "code",
   "execution_count": 169,
   "metadata": {
    "ExecuteTime": {
     "end_time": "2023-07-07T08:49:54.939842451Z",
     "start_time": "2023-07-07T08:49:54.431571245Z"
    }
   },
   "outputs": [
    {
     "name": "stdout",
     "output_type": "stream",
     "text": [
      "<class 'pandas.core.frame.DataFrame'>\n",
      "Index: 23368 entries, 0 to 23367\n",
      "Data columns (total 24 columns):\n",
      " #   Column                    Non-Null Count  Dtype  \n",
      "---  ------                    --------------  -----  \n",
      " 0   ID  объявления            23368 non-null  int64  \n",
      " 1   Количество комнат         22327 non-null  object \n",
      " 2   Тип                       23368 non-null  object \n",
      " 3   Метро                     22053 non-null  object \n",
      " 4   Адрес                     23368 non-null  object \n",
      " 5   Площадь, м2               23368 non-null  object \n",
      " 6   Дом                       23368 non-null  object \n",
      " 7   Парковка                  9951 non-null   object \n",
      " 8   Цена                      23368 non-null  object \n",
      " 9   Телефоны                  23368 non-null  object \n",
      " 10  Описание                  23368 non-null  object \n",
      " 11  Ремонт                    20613 non-null  object \n",
      " 12  Площадь комнат, м2        14458 non-null  object \n",
      " 13  Балкон                    15390 non-null  object \n",
      " 14  Окна                      16755 non-null  object \n",
      " 15  Санузел                   20696 non-null  object \n",
      " 16  Можно с детьми/животными  17272 non-null  object \n",
      " 17  Дополнительно             23011 non-null  object \n",
      " 18  Название ЖК               5848 non-null   object \n",
      " 19  Серия дома                2163 non-null   object \n",
      " 20  Высота потолков, м        11206 non-null  float64\n",
      " 21  Лифт                      17868 non-null  object \n",
      " 22  Мусоропровод              12846 non-null  object \n",
      " 23  Ссылка на объявление      23368 non-null  object \n",
      "dtypes: float64(1), int64(1), object(22)\n",
      "memory usage: 4.5+ MB\n"
     ]
    }
   ],
   "source": [
    "import pandas as pd\n",
    "from currency_converter import CurrencyConverter\n",
    "\n",
    "\n",
    "\n",
    "df = pd.read_csv('_data.csv', index_col=0)\n",
    "# df.columns\n",
    "# df['ID  объявления'].value_counts()\n",
    "# df.head(30)\n",
    "df.info()\n",
    "# df['Количество комнат'].value_counts()\n",
    "# df.loc[:15, 'Площадь, м2']"
   ]
  },
  {
   "attachments": {},
   "cell_type": "markdown",
   "metadata": {},
   "source": [
    "### Достаем данные Москвы"
   ]
  },
  {
   "cell_type": "code",
   "execution_count": 170,
   "metadata": {
    "ExecuteTime": {
     "end_time": "2023-07-07T08:49:54.940160119Z",
     "start_time": "2023-07-07T08:49:54.933315372Z"
    }
   },
   "outputs": [
    {
     "data": {
      "text/plain": "(19737, 25)"
     },
     "execution_count": 170,
     "metadata": {},
     "output_type": "execute_result"
    }
   ],
   "source": [
    "# Город\n",
    "df['city'] = [row.split(',')[0] if isinstance(row, str) else row for row in df['Адрес']]\n",
    "df['city'].value_counts()\n",
    "# df_msk = df[df['Адрес'].str.contains(\"Москва\")].reset_index(drop = True)\n",
    "df = df[df['city']=='Москва']\n",
    "df.shape"
   ]
  },
  {
   "attachments": {},
   "cell_type": "markdown",
   "metadata": {},
   "source": [
    "## Работаем с пропусками"
   ]
  },
  {
   "cell_type": "code",
   "execution_count": 171,
   "metadata": {
    "ExecuteTime": {
     "end_time": "2023-07-07T08:49:54.949177754Z",
     "start_time": "2023-07-07T08:49:54.933480012Z"
    }
   },
   "outputs": [
    {
     "data": {
      "text/plain": "ID  объявления                  0\nКоличество комнат             535\nТип                             0\nМетро                         346\nАдрес                           0\nПлощадь, м2                     0\nДом                             0\nПарковка                    11174\nЦена                            0\nТелефоны                        0\nОписание                        0\nРемонт                       2463\nПлощадь комнат, м2           7228\nБалкон                       6630\nОкна                         5150\nСанузел                      2041\nМожно с детьми/животными     4915\nДополнительно                 272\nНазвание ЖК                 15281\nСерия дома                  17646\nВысота потолков, м           9202\nЛифт                         4192\nМусоропровод                 8007\nСсылка на объявление            0\ncity                            0\ndtype: int64"
     },
     "execution_count": 171,
     "metadata": {},
     "output_type": "execute_result"
    }
   ],
   "source": [
    "# Cмотрим NaN значения\n",
    "df.isna().sum()"
   ]
  },
  {
   "attachments": {},
   "cell_type": "markdown",
   "metadata": {},
   "source": [
    "### Комнаты"
   ]
  },
  {
   "cell_type": "code",
   "execution_count": 172,
   "metadata": {
    "ExecuteTime": {
     "end_time": "2023-07-07T08:49:54.989668018Z",
     "start_time": "2023-07-07T08:49:54.957792020Z"
    }
   },
   "outputs": [],
   "source": [
    "# Получаем количество комнат\n",
    "df.loc[:,'Rooms'] = [row.split(',')[0] if isinstance(row, str) else row for row in df['Количество комнат']]\n",
    "df['Rooms'].unique()\n",
    "df['Rooms'].value_counts()\n",
    "df['Rooms'].isna().sum()\n",
    "\n",
    "# Анализ выборки NaN в графе комнат показал, что это квартиры-студии, заменим NaN на 0\n",
    "df.loc[df['Rooms'].isna()]['Описание'].head()\n",
    "df['Rooms'].fillna(0, inplace=True)\n",
    "\n"
   ]
  },
  {
   "attachments": {},
   "cell_type": "markdown",
   "metadata": {},
   "source": [
    "### Метро"
   ]
  },
  {
   "cell_type": "code",
   "execution_count": 173,
   "metadata": {
    "ExecuteTime": {
     "end_time": "2023-07-07T08:49:55.001242854Z",
     "start_time": "2023-07-07T08:49:54.966985285Z"
    }
   },
   "outputs": [],
   "source": [
    "# Колонка метро\n",
    "df['Subway'] = [row.split(' (')[0] if isinstance(row, str) else row for row in df['Метро']]\n",
    "df['Subway'] = [row.split('. ')[1] if isinstance(row, str) else row for row in df['Subway']]\n",
    "df = df.dropna(subset=['Метро'])"
   ]
  },
  {
   "attachments": {},
   "cell_type": "markdown",
   "metadata": {},
   "source": [
    "### Адрес"
   ]
  },
  {
   "cell_type": "code",
   "execution_count": 174,
   "metadata": {
    "ExecuteTime": {
     "end_time": "2023-07-07T08:49:55.025840849Z",
     "start_time": "2023-07-07T08:49:54.998113466Z"
    }
   },
   "outputs": [
    {
     "data": {
      "text/plain": "Not_Moscow\n0    17972\n1     1419\nName: count, dtype: int64"
     },
     "execution_count": 174,
     "metadata": {},
     "output_type": "execute_result"
    }
   ],
   "source": [
    "# Создаем переменную \"за мкадом\"\n",
    "df['Адрес'].unique()\n",
    "df['Not_Moscow'] = df['Адрес'].apply(lambda x: 1 if 'мкад' in str(x).lower() else 0)\n",
    "df['Not_Moscow'].value_counts()"
   ]
  },
  {
   "cell_type": "code",
   "execution_count": 175,
   "metadata": {
    "ExecuteTime": {
     "end_time": "2023-07-07T08:49:55.031452456Z",
     "start_time": "2023-07-07T08:49:55.022688759Z"
    }
   },
   "outputs": [],
   "source": [
    "# Удаляем концы адреса по типу \"ш. Варшавское (4 км до МКАД)\"\n",
    "df['New_address'] = [row.split('ш. ')[0] for row in df['Адрес']]\n",
    "# df_msk = df_msk[df_msk['Адрес'] != 'Москва, Жилой Поколение кв-л'].reset_index(drop = True)"
   ]
  },
  {
   "cell_type": "code",
   "execution_count": 176,
   "metadata": {
    "ExecuteTime": {
     "end_time": "2023-07-07T08:49:55.089006081Z",
     "start_time": "2023-07-07T08:49:55.027783193Z"
    }
   },
   "outputs": [],
   "source": [
    "# время до метро пешком\n",
    "df['time_to_subway'] = df['Метро'].str.extract('(\\d+) мин пешком', expand=False)\n",
    "df['time_to_subway'] = [row if isinstance(row, str) else 0 for row in df['time_to_subway']]\n",
    "df['time_to_subway'] = pd.to_numeric(df['time_to_subway'])\n",
    "# время до метро на машине\n",
    "df['time_to_subway_car'] = df['Метро'].str.extract('(\\d+) мин на машине', expand=False)\n",
    "df['time_to_subway_car'] = [row if isinstance(row, str) else 0 for row in df['time_to_subway_car']]\n",
    "df['time_to_subway_car'] = pd.to_numeric(df['time_to_subway_car'])\n",
    "# конвертация времени на машине в время пешком\n",
    "df['time_to_subway_car'] = 7 * df['time_to_subway_car']\n",
    "df['time_to_subway_total'] = df['time_to_subway'] + df['time_to_subway_car']\n"
   ]
  },
  {
   "attachments": {},
   "cell_type": "markdown",
   "metadata": {},
   "source": [
    "### Площадь"
   ]
  },
  {
   "cell_type": "code",
   "execution_count": 177,
   "metadata": {
    "ExecuteTime": {
     "end_time": "2023-07-07T08:49:55.107797183Z",
     "start_time": "2023-07-07T08:49:55.089403639Z"
    }
   },
   "outputs": [
    {
     "data": {
      "text/plain": "0        200\n1        198\n2        200\n3        170\n4         58\n        ... \n23363     35\n23364     38\n23365     43\n23366     52\n23367     90\nName: total_square, Length: 19391, dtype: int64"
     },
     "execution_count": 177,
     "metadata": {},
     "output_type": "execute_result"
    }
   ],
   "source": [
    "df['Площадь, м2'].unique()\n",
    "# Получим общую площадь квартиры\n",
    "df['total_square'] = [row.split('.')[0] if isinstance(row, str) else row for row in df['Площадь, м2']]\n",
    "df['total_square'].astype(int)\n",
    "# df['total_square'].unique()"
   ]
  },
  {
   "cell_type": "code",
   "execution_count": 178,
   "metadata": {
    "ExecuteTime": {
     "end_time": "2023-07-07T08:49:55.130373055Z",
     "start_time": "2023-07-07T08:49:55.111274555Z"
    }
   },
   "outputs": [],
   "source": [
    "# получим площадь кухни\n",
    "df['Площадь, м2'].unique()\n",
    "df['kitchen_square'] = [row.split('/')[-1] if isinstance(row, str) else row for row in df['Площадь, м2']]\n"
   ]
  },
  {
   "attachments": {},
   "cell_type": "markdown",
   "metadata": {},
   "source": [
    "### Животные и дети"
   ]
  },
  {
   "cell_type": "code",
   "execution_count": 179,
   "metadata": {
    "ExecuteTime": {
     "end_time": "2023-07-07T08:49:55.149306845Z",
     "start_time": "2023-07-07T08:49:55.124586178Z"
    }
   },
   "outputs": [],
   "source": [
    "# добавляем колонки /можно с детьми /можно с животными\n",
    "df['Можно с детьми/животными'].unique()\n",
    "df['ok_pets'] = df['Можно с детьми/животными'].apply(lambda x: 1 if 'животными' in str(x).lower() else 0)\n",
    "df['ok_kids'] = df['Можно с детьми/животными'].apply(lambda x: 1 if 'детьми' in str(x).lower() else 0)\n"
   ]
  },
  {
   "attachments": {},
   "cell_type": "markdown",
   "metadata": {},
   "source": [
    "### Балкон"
   ]
  },
  {
   "cell_type": "code",
   "execution_count": 180,
   "metadata": {
    "ExecuteTime": {
     "end_time": "2023-07-07T08:49:55.179439894Z",
     "start_time": "2023-07-07T08:49:55.149745861Z"
    }
   },
   "outputs": [],
   "source": [
    "df['Балкон'].unique()\n",
    "\n",
    "df['Balconies'] = df['Балкон'].str.extract(r'Балкон \\((\\d+)\\)').astype(float)\n",
    "df['Loggies'] = df['Балкон'].str.extract(r'Лоджия \\((\\d+)\\)').astype(float)\n",
    "\n",
    "df['Balconies'].isna().sum()\n",
    "df['Balconies'] = df['Balconies'].fillna(df['Balconies'].mean())\n",
    "# df_msk['Число балконов'].isna().sum()\n",
    "df['Loggies'].isna().sum()\n",
    "df['Loggies'] = df['Loggies'].fillna(df['Loggies'].mean())"
   ]
  },
  {
   "attachments": {},
   "cell_type": "markdown",
   "metadata": {},
   "source": [
    "### Санузел"
   ]
  },
  {
   "cell_type": "code",
   "execution_count": 181,
   "metadata": {
    "ExecuteTime": {
     "end_time": "2023-07-07T08:49:55.237398391Z",
     "start_time": "2023-07-07T08:49:55.194158494Z"
    }
   },
   "outputs": [],
   "source": [
    " #делим сан узлы на количество совмещенных и раздельных\n",
    "df['Санузел']\n",
    "df['Connected_bathroom'] = df['Санузел'].str.extract(r'Совмещенный \\((\\d+)\\)').astype(float)\n",
    "df['Split_bathroom'] = df['Санузел'].str.extract(r'Раздельный \\((\\d+)\\)').astype(float)\n",
    "\n",
    "df['Connected_bathroom'] = df['Connected_bathroom'].fillna(df['Connected_bathroom'].mean())\n",
    "df['Split_bathroom'] = df['Split_bathroom'].fillna(df['Split_bathroom'].mean())\n"
   ]
  },
  {
   "attachments": {},
   "cell_type": "markdown",
   "metadata": {},
   "source": [
    "### Мебель и кондиционер"
   ]
  },
  {
   "cell_type": "code",
   "execution_count": 182,
   "metadata": {
    "ExecuteTime": {
     "end_time": "2023-07-07T08:49:55.281419377Z",
     "start_time": "2023-07-07T08:49:55.237601503Z"
    }
   },
   "outputs": [],
   "source": [
    "df['Дополнительно']\n",
    "# Мебель в комнатах\n",
    "# Кондиционер\n",
    "df['Furniture'] = df['Дополнительно'].str.extract('(ебель в комнатах)',).astype(str)\n",
    "df['AC'] = df['Дополнительно'].str.extract('(ондиционер)',).astype(str)\n",
    "\n",
    "df['Furniture'] = [1 if 'ебель в комнатах' in row else 0 for row in df['Furniture']]\n",
    "df['AC'] = [1 if 'ондиционер' in row else 0 for row in df['AC']]\n"
   ]
  },
  {
   "attachments": {},
   "cell_type": "markdown",
   "metadata": {},
   "source": [
    "### Парковка"
   ]
  },
  {
   "cell_type": "code",
   "execution_count": 183,
   "metadata": {
    "ExecuteTime": {
     "end_time": "2023-07-07T08:49:55.284114267Z",
     "start_time": "2023-07-07T08:49:55.281694655Z"
    }
   },
   "outputs": [],
   "source": [
    "#делим парковку на платную и бесплатную\n",
    "df['Парковка'] = df['Парковка'].replace(to_replace ='открытая', value = 'бесплатная во дворе')\n",
    "df['Парковка'] = df['Парковка'].replace(to_replace ='наземная', value = 'платная во дворе')\n",
    "df['Парковка'] = df['Парковка'].replace(to_replace ='многоуровневая', value = 'платная во дворе')\n",
    "df['Парковка'] = df['Парковка'].replace(to_replace ='подземная', value = 'платная во дворе')\n",
    "df['Парковка'] = df['Парковка'].replace(to_replace ='на крыше', value = 'платная во дворе')\n",
    "df['Парковка'] = df['Парковка'].fillna('бесплатная во дворе')\n",
    "df['Parking'] = df['Парковка']\n",
    "df = df.drop(['Парковка'], axis = 1)"
   ]
  },
  {
   "attachments": {},
   "cell_type": "markdown",
   "metadata": {},
   "source": [
    "### Дом (тип, этажность, этаж)"
   ]
  },
  {
   "cell_type": "code",
   "execution_count": 184,
   "metadata": {
    "ExecuteTime": {
     "end_time": "2023-07-07T08:49:55.334008493Z",
     "start_time": "2023-07-07T08:49:55.307642831Z"
    }
   },
   "outputs": [],
   "source": [
    "# разбитие колонки дом на тип, этажность, этаж квартиры\n",
    "df['house_type'] = [row.split(', ')[-1] if len(row.split(', ')[-1]) > 6 else 'Неизвестно' for row in df['Дом']]\n",
    "df['floors_amount'] = [int(row.split('/')[1].split(',')[0]) for row in df['Дом']]\n",
    "df['flat_floor'] = [int(row.split('/')[0]) for row in df['Дом']]\n",
    "df = df.drop(['Дом'], axis = 1)"
   ]
  },
  {
   "attachments": {},
   "cell_type": "markdown",
   "metadata": {},
   "source": [
    "### Цена\n"
   ]
  },
  {
   "cell_type": "code",
   "execution_count": 185,
   "metadata": {
    "ExecuteTime": {
     "end_time": "2023-07-07T08:49:55.478818242Z",
     "start_time": "2023-07-07T08:49:55.334188211Z"
    }
   },
   "outputs": [],
   "source": [
    "c = CurrencyConverter()\n",
    "def sale(text):\n",
    "    result = None\n",
    "    if text.split(' ')[1] == 'руб./':\n",
    "        result = float(text.split(' ')[0])\n",
    "    elif text.split(' ')[1] == '$,':\n",
    "        result = c.convert(float(text.split(' ')[0]), 'USD', 'RUB')\n",
    "    elif text.split(' ')[1] == '€,':\n",
    "        result = c.convert(float(text.split(' ')[0]), 'EUR', 'RUB')\n",
    "    return result\n",
    "text = df['Цена']\n",
    "text = text.apply(sale)\n",
    "df['Price'] = text"
   ]
  },
  {
   "cell_type": "code",
   "execution_count": 186,
   "metadata": {
    "ExecuteTime": {
     "end_time": "2023-07-07T08:49:55.529466987Z",
     "start_time": "2023-07-07T08:49:55.487573002Z"
    }
   },
   "outputs": [],
   "source": [
    "# влючена ли комуналка\n",
    "df['Utilities'] = df['Цена'].str.contains('Коммунальные услуги включены')\n",
    "df['Rent_length'] = df['Цена'].str.contains('Срок аренды - Длительный')\n",
    "df['Prepay'] = df['Цена'].str.contains('Предоплата')"
   ]
  },
  {
   "cell_type": "code",
   "execution_count": 187,
   "metadata": {
    "ExecuteTime": {
     "end_time": "2023-07-07T08:49:55.629610717Z",
     "start_time": "2023-07-07T08:49:55.529322656Z"
    }
   },
   "outputs": [],
   "source": [
    "# лифты\n",
    "#заполняем нан по госту\n",
    "df['Лифт'] = [\n",
    "    row if row == row else\n",
    "    ['Пасс (0), Груз (0)' if 5 >= df['floors_amount'].iloc[i]  else\n",
    "     'Пасс (1), Груз (0)' if 5 <= df['floors_amount'].iloc[i] <= 9  else\n",
    "     'Пасс (1), Груз (1)' if 10 <= df['floors_amount'].iloc[i] <= 19 else\n",
    "     'Пасс (2), Груз (1)'][0]\n",
    "    for i, row in enumerate(df['Лифт'])\n",
    "]\n",
    "#создаем отдельные колонки для количества пассажирских и грузовых лифтов\n",
    "df['Pass_elevator'] = [row.split(' ')[1] if (row.split(' ')[0]) == 'Пасс' else '(0)' for row in df['Лифт']]\n",
    "df['Cargo_elevator'] = [row.split(' ')[-1] if (row.split(' ')[-2]) == 'Груз' else '(0)' for row in df['Лифт']]\n",
    "\n",
    "df['Pass_elevator'] = [row.split('(')[1] for row in df['Pass_elevator']]\n",
    "df['Pass_elevator'] = [int(row.split(')')[0]) for row in df['Pass_elevator']]\n",
    "df['Cargo_elevator'] = [row.split('(')[1] for row in df['Cargo_elevator']]\n",
    "df['Cargo_elevator'] = [int(row.split(')')[0]) for row in df['Cargo_elevator']]\n",
    "df = df.drop(['Лифт'], axis = 1)"
   ]
  },
  {
   "attachments": {},
   "cell_type": "markdown",
   "metadata": {},
   "source": [
    "### Окна, потолки, мусоропровод, ремонт"
   ]
  },
  {
   "cell_type": "code",
   "execution_count": 188,
   "metadata": {
    "ExecuteTime": {
     "end_time": "2023-07-07T08:49:55.634228444Z",
     "start_time": "2023-07-07T08:49:55.631895645Z"
    }
   },
   "outputs": [],
   "source": [
    "# очистка колонки окна\n",
    "df['windows'] = df[\"Окна\"].fillna('Во двор')"
   ]
  },
  {
   "cell_type": "code",
   "execution_count": 189,
   "metadata": {
    "ExecuteTime": {
     "end_time": "2023-07-07T08:49:55.681457476Z",
     "start_time": "2023-07-07T08:49:55.635931368Z"
    }
   },
   "outputs": [],
   "source": [
    "# заменяем нан в потолках на среднюю высоту\n",
    "df['ceiling_height'] = df['Высота потолков, м'].fillna(round(df['Высота потолков, м'].mean(), 2))"
   ]
  },
  {
   "cell_type": "code",
   "execution_count": 190,
   "metadata": {
    "ExecuteTime": {
     "end_time": "2023-07-07T08:49:55.682106527Z",
     "start_time": "2023-07-07T08:49:55.681706103Z"
    }
   },
   "outputs": [],
   "source": [
    "# заменяем нан на остутствие мусоропровода\n",
    "df['Garbage_disposal'] = df['Мусоропровод'].fillna('Нет')"
   ]
  },
  {
   "cell_type": "code",
   "execution_count": 191,
   "metadata": {
    "ExecuteTime": {
     "end_time": "2023-07-07T08:49:55.682315360Z",
     "start_time": "2023-07-07T08:49:55.681876514Z"
    }
   },
   "outputs": [],
   "source": [
    "# учитываем нан как квартиры без ремонта\n",
    "df['maintenance'] = df['Ремонт'].fillna('Без ремонта')"
   ]
  },
  {
   "attachments": {},
   "cell_type": "markdown",
   "metadata": {},
   "source": [
    "### Удаление старых / лишних колонок"
   ]
  },
  {
   "cell_type": "code",
   "execution_count": 192,
   "metadata": {
    "ExecuteTime": {
     "end_time": "2023-07-07T08:49:55.682439533Z",
     "start_time": "2023-07-07T08:49:55.681975270Z"
    }
   },
   "outputs": [],
   "source": [
    "# удаление старых колонок\n",
    "df.drop(['ID  объявления', 'Площадь, м2', 'Количество комнат', 'Тип', 'Адрес', 'Цена', 'Телефоны', 'Описание',\n",
    "'Ремонт', 'Площадь комнат, м2', 'Балкон', 'Окна', 'Санузел', 'Можно с детьми/животными', 'Дополнительно', 'Название ЖК', 'Серия дома', 'Высота потолков, м', 'Мусоропровод',\n",
    "'Ссылка на объявление', 'city', 'Метро'], axis=1, inplace=True)"
   ]
  },
  {
   "cell_type": "code",
   "execution_count": 193,
   "metadata": {
    "ExecuteTime": {
     "end_time": "2023-07-07T08:49:55.682731032Z",
     "start_time": "2023-07-07T08:49:55.682260456Z"
    }
   },
   "outputs": [
    {
     "data": {
      "text/plain": "Rooms                    object\nSubway                   object\nNot_Moscow                int64\nNew_address              object\ntime_to_subway            int64\ntime_to_subway_car        int64\ntime_to_subway_total      int64\ntotal_square             object\nkitchen_square           object\nok_pets                   int64\nok_kids                   int64\nBalconies               float64\nLoggies                 float64\nConnected_bathroom      float64\nSplit_bathroom          float64\nFurniture                 int64\nAC                        int64\nParking                  object\nhouse_type               object\nfloors_amount             int64\nflat_floor                int64\nPrice                   float64\nUtilities                  bool\nRent_length                bool\nPrepay                     bool\nPass_elevator             int64\nCargo_elevator            int64\nwindows                  object\nceiling_height          float64\nGarbage_disposal         object\nmaintenance              object\ndtype: object"
     },
     "execution_count": 193,
     "metadata": {},
     "output_type": "execute_result"
    }
   ],
   "source": [
    "df.dtypes"
   ]
  },
  {
   "cell_type": "code",
   "execution_count": 194,
   "outputs": [],
   "source": [
    "df = df.dropna(subset=['Price'])#так как в колонке прайс отсутсвуют некоторые значения мы удаляем объявления без цены"
   ],
   "metadata": {
    "collapsed": false,
    "ExecuteTime": {
     "end_time": "2023-07-07T08:49:55.734852427Z",
     "start_time": "2023-07-07T08:49:55.682399117Z"
    }
   }
  },
  {
   "cell_type": "code",
   "execution_count": 195,
   "outputs": [
    {
     "data": {
      "text/plain": "Rooms                   0\nSubway                  0\nNot_Moscow              0\nNew_address             0\ntime_to_subway          0\ntime_to_subway_car      0\ntime_to_subway_total    0\ntotal_square            0\nkitchen_square          0\nok_pets                 0\nok_kids                 0\nBalconies               0\nLoggies                 0\nConnected_bathroom      0\nSplit_bathroom          0\nFurniture               0\nAC                      0\nParking                 0\nhouse_type              0\nfloors_amount           0\nflat_floor              0\nPrice                   0\nUtilities               0\nRent_length             0\nPrepay                  0\nPass_elevator           0\nCargo_elevator          0\nwindows                 0\nceiling_height          0\nGarbage_disposal        0\nmaintenance             0\ndtype: int64"
     },
     "execution_count": 195,
     "metadata": {},
     "output_type": "execute_result"
    }
   ],
   "source": [
    "df.isna().sum()"
   ],
   "metadata": {
    "collapsed": false,
    "ExecuteTime": {
     "end_time": "2023-07-07T08:49:55.735287565Z",
     "start_time": "2023-07-07T08:49:55.725323249Z"
    }
   }
  },
  {
   "cell_type": "code",
   "execution_count": 196,
   "outputs": [
    {
     "data": {
      "text/plain": "      Rooms      Subway  Not_Moscow                            New_address  \\\n0         4  Смоленская           0          Москва, улица Новый Арбат, 27   \n1         4  Смоленская           0          Москва, улица Новый Арбат, 27   \n2         4  Смоленская           0          Москва, улица Новый Арбат, 27   \n3         4  Смоленская           0       Москва, переулок Плотников, 21С1   \n4         2   Арбатская           0          Москва, улица Новый Арбат, 15   \n...     ...         ...         ...                                    ...   \n23363     0    Говорово           1         Москва, Боровское шоссе, 2к7,    \n23364     1    Солнцево           1  Москва, Производственная улица, 8к1,    \n23365     2    Солнцево           0           Москва, Боровский проезд, 11   \n23366     2    Солнцево           1         Москва, улица Богданова, 6к1,    \n23367     2    Говорово           1         Москва, улица Богданова, 2к1,    \n\n       time_to_subway  time_to_subway_car  time_to_subway_total total_square  \\\n0                   9                   0                     9          200   \n1                   8                   0                     8          198   \n2                   7                   0                     7          200   \n3                   3                   0                     3          170   \n4                   7                   0                     7           58   \n...               ...                 ...                   ...          ...   \n23363               8                   0                     8           35   \n23364               7                   0                     7           38   \n23365               6                   0                     6           43   \n23366              11                   0                    11           52   \n23367              10                   0                    10           90   \n\n      kitchen_square  ok_pets  ...     Price  Utilities  Rent_length  Prepay  \\\n0               20.0        1  ...  500000.0       True         True    True   \n1               18.0        0  ...  500000.0       True         True    True   \n2                4.0        0  ...  500000.0      False         True    True   \n3               17.0        1  ...  400000.0      False         True    True   \n4                5.0        0  ...  225000.0       True         True    True   \n...              ...      ...  ...       ...        ...          ...     ...   \n23363            8.0        0  ...   42000.0       True         True    True   \n23364           11.0        0  ...   45000.0       True         True    True   \n23365           43.1        0  ...   50000.0       True         True    True   \n23366           10.0        0  ...   55000.0       True         True    True   \n23367           15.5        1  ...   57000.0       True         True    True   \n\n       Pass_elevator  Cargo_elevator          windows ceiling_height  \\\n0                  4               1          Во двор           3.00   \n1                  1               1  На улицу и двор           3.50   \n2                  1               0  На улицу и двор           3.20   \n3                  1               0  На улицу и двор           3.20   \n4                  1               1  На улицу и двор           3.90   \n...              ...             ...              ...            ...   \n23363              1               1          Во двор           3.00   \n23364              1               1          Во двор           3.00   \n23365              0               0  На улицу и двор           3.00   \n23366              3               0          Во двор           2.65   \n23367              3               0          Во двор           3.00   \n\n      Garbage_disposal    maintenance  \n0                   Да   Дизайнерский  \n1                  Нет   Дизайнерский  \n2                  Нет     Евроремонт  \n3                  Нет     Евроремонт  \n4                   Да     Евроремонт  \n...                ...            ...  \n23363              Нет     Евроремонт  \n23364              Нет     Евроремонт  \n23365              Нет   Дизайнерский  \n23366               Да     Евроремонт  \n23367               Да  Косметический  \n\n[19369 rows x 31 columns]",
      "text/html": "<div>\n<style scoped>\n    .dataframe tbody tr th:only-of-type {\n        vertical-align: middle;\n    }\n\n    .dataframe tbody tr th {\n        vertical-align: top;\n    }\n\n    .dataframe thead th {\n        text-align: right;\n    }\n</style>\n<table border=\"1\" class=\"dataframe\">\n  <thead>\n    <tr style=\"text-align: right;\">\n      <th></th>\n      <th>Rooms</th>\n      <th>Subway</th>\n      <th>Not_Moscow</th>\n      <th>New_address</th>\n      <th>time_to_subway</th>\n      <th>time_to_subway_car</th>\n      <th>time_to_subway_total</th>\n      <th>total_square</th>\n      <th>kitchen_square</th>\n      <th>ok_pets</th>\n      <th>...</th>\n      <th>Price</th>\n      <th>Utilities</th>\n      <th>Rent_length</th>\n      <th>Prepay</th>\n      <th>Pass_elevator</th>\n      <th>Cargo_elevator</th>\n      <th>windows</th>\n      <th>ceiling_height</th>\n      <th>Garbage_disposal</th>\n      <th>maintenance</th>\n    </tr>\n  </thead>\n  <tbody>\n    <tr>\n      <th>0</th>\n      <td>4</td>\n      <td>Смоленская</td>\n      <td>0</td>\n      <td>Москва, улица Новый Арбат, 27</td>\n      <td>9</td>\n      <td>0</td>\n      <td>9</td>\n      <td>200</td>\n      <td>20.0</td>\n      <td>1</td>\n      <td>...</td>\n      <td>500000.0</td>\n      <td>True</td>\n      <td>True</td>\n      <td>True</td>\n      <td>4</td>\n      <td>1</td>\n      <td>Во двор</td>\n      <td>3.00</td>\n      <td>Да</td>\n      <td>Дизайнерский</td>\n    </tr>\n    <tr>\n      <th>1</th>\n      <td>4</td>\n      <td>Смоленская</td>\n      <td>0</td>\n      <td>Москва, улица Новый Арбат, 27</td>\n      <td>8</td>\n      <td>0</td>\n      <td>8</td>\n      <td>198</td>\n      <td>18.0</td>\n      <td>0</td>\n      <td>...</td>\n      <td>500000.0</td>\n      <td>True</td>\n      <td>True</td>\n      <td>True</td>\n      <td>1</td>\n      <td>1</td>\n      <td>На улицу и двор</td>\n      <td>3.50</td>\n      <td>Нет</td>\n      <td>Дизайнерский</td>\n    </tr>\n    <tr>\n      <th>2</th>\n      <td>4</td>\n      <td>Смоленская</td>\n      <td>0</td>\n      <td>Москва, улица Новый Арбат, 27</td>\n      <td>7</td>\n      <td>0</td>\n      <td>7</td>\n      <td>200</td>\n      <td>4.0</td>\n      <td>0</td>\n      <td>...</td>\n      <td>500000.0</td>\n      <td>False</td>\n      <td>True</td>\n      <td>True</td>\n      <td>1</td>\n      <td>0</td>\n      <td>На улицу и двор</td>\n      <td>3.20</td>\n      <td>Нет</td>\n      <td>Евроремонт</td>\n    </tr>\n    <tr>\n      <th>3</th>\n      <td>4</td>\n      <td>Смоленская</td>\n      <td>0</td>\n      <td>Москва, переулок Плотников, 21С1</td>\n      <td>3</td>\n      <td>0</td>\n      <td>3</td>\n      <td>170</td>\n      <td>17.0</td>\n      <td>1</td>\n      <td>...</td>\n      <td>400000.0</td>\n      <td>False</td>\n      <td>True</td>\n      <td>True</td>\n      <td>1</td>\n      <td>0</td>\n      <td>На улицу и двор</td>\n      <td>3.20</td>\n      <td>Нет</td>\n      <td>Евроремонт</td>\n    </tr>\n    <tr>\n      <th>4</th>\n      <td>2</td>\n      <td>Арбатская</td>\n      <td>0</td>\n      <td>Москва, улица Новый Арбат, 15</td>\n      <td>7</td>\n      <td>0</td>\n      <td>7</td>\n      <td>58</td>\n      <td>5.0</td>\n      <td>0</td>\n      <td>...</td>\n      <td>225000.0</td>\n      <td>True</td>\n      <td>True</td>\n      <td>True</td>\n      <td>1</td>\n      <td>1</td>\n      <td>На улицу и двор</td>\n      <td>3.90</td>\n      <td>Да</td>\n      <td>Евроремонт</td>\n    </tr>\n    <tr>\n      <th>...</th>\n      <td>...</td>\n      <td>...</td>\n      <td>...</td>\n      <td>...</td>\n      <td>...</td>\n      <td>...</td>\n      <td>...</td>\n      <td>...</td>\n      <td>...</td>\n      <td>...</td>\n      <td>...</td>\n      <td>...</td>\n      <td>...</td>\n      <td>...</td>\n      <td>...</td>\n      <td>...</td>\n      <td>...</td>\n      <td>...</td>\n      <td>...</td>\n      <td>...</td>\n      <td>...</td>\n    </tr>\n    <tr>\n      <th>23363</th>\n      <td>0</td>\n      <td>Говорово</td>\n      <td>1</td>\n      <td>Москва, Боровское шоссе, 2к7,</td>\n      <td>8</td>\n      <td>0</td>\n      <td>8</td>\n      <td>35</td>\n      <td>8.0</td>\n      <td>0</td>\n      <td>...</td>\n      <td>42000.0</td>\n      <td>True</td>\n      <td>True</td>\n      <td>True</td>\n      <td>1</td>\n      <td>1</td>\n      <td>Во двор</td>\n      <td>3.00</td>\n      <td>Нет</td>\n      <td>Евроремонт</td>\n    </tr>\n    <tr>\n      <th>23364</th>\n      <td>1</td>\n      <td>Солнцево</td>\n      <td>1</td>\n      <td>Москва, Производственная улица, 8к1,</td>\n      <td>7</td>\n      <td>0</td>\n      <td>7</td>\n      <td>38</td>\n      <td>11.0</td>\n      <td>0</td>\n      <td>...</td>\n      <td>45000.0</td>\n      <td>True</td>\n      <td>True</td>\n      <td>True</td>\n      <td>1</td>\n      <td>1</td>\n      <td>Во двор</td>\n      <td>3.00</td>\n      <td>Нет</td>\n      <td>Евроремонт</td>\n    </tr>\n    <tr>\n      <th>23365</th>\n      <td>2</td>\n      <td>Солнцево</td>\n      <td>0</td>\n      <td>Москва, Боровский проезд, 11</td>\n      <td>6</td>\n      <td>0</td>\n      <td>6</td>\n      <td>43</td>\n      <td>43.1</td>\n      <td>0</td>\n      <td>...</td>\n      <td>50000.0</td>\n      <td>True</td>\n      <td>True</td>\n      <td>True</td>\n      <td>0</td>\n      <td>0</td>\n      <td>На улицу и двор</td>\n      <td>3.00</td>\n      <td>Нет</td>\n      <td>Дизайнерский</td>\n    </tr>\n    <tr>\n      <th>23366</th>\n      <td>2</td>\n      <td>Солнцево</td>\n      <td>1</td>\n      <td>Москва, улица Богданова, 6к1,</td>\n      <td>11</td>\n      <td>0</td>\n      <td>11</td>\n      <td>52</td>\n      <td>10.0</td>\n      <td>0</td>\n      <td>...</td>\n      <td>55000.0</td>\n      <td>True</td>\n      <td>True</td>\n      <td>True</td>\n      <td>3</td>\n      <td>0</td>\n      <td>Во двор</td>\n      <td>2.65</td>\n      <td>Да</td>\n      <td>Евроремонт</td>\n    </tr>\n    <tr>\n      <th>23367</th>\n      <td>2</td>\n      <td>Говорово</td>\n      <td>1</td>\n      <td>Москва, улица Богданова, 2к1,</td>\n      <td>10</td>\n      <td>0</td>\n      <td>10</td>\n      <td>90</td>\n      <td>15.5</td>\n      <td>1</td>\n      <td>...</td>\n      <td>57000.0</td>\n      <td>True</td>\n      <td>True</td>\n      <td>True</td>\n      <td>3</td>\n      <td>0</td>\n      <td>Во двор</td>\n      <td>3.00</td>\n      <td>Да</td>\n      <td>Косметический</td>\n    </tr>\n  </tbody>\n</table>\n<p>19369 rows × 31 columns</p>\n</div>"
     },
     "execution_count": 196,
     "metadata": {},
     "output_type": "execute_result"
    }
   ],
   "source": [
    "df"
   ],
   "metadata": {
    "collapsed": false,
    "ExecuteTime": {
     "end_time": "2023-07-07T08:49:55.735532045Z",
     "start_time": "2023-07-07T08:49:55.725519549Z"
    }
   }
  },
  {
   "cell_type": "code",
   "execution_count": 197,
   "outputs": [],
   "source": [
    "df.to_csv('data.csv', index=False)"
   ],
   "metadata": {
    "collapsed": false,
    "ExecuteTime": {
     "end_time": "2023-07-07T08:49:55.911966670Z",
     "start_time": "2023-07-07T08:49:55.733971169Z"
    }
   }
  },
  {
   "cell_type": "code",
   "execution_count": 197,
   "outputs": [],
   "source": [],
   "metadata": {
    "collapsed": false,
    "ExecuteTime": {
     "end_time": "2023-07-07T08:49:55.913914194Z",
     "start_time": "2023-07-07T08:49:55.912222902Z"
    }
   }
  }
 ],
 "metadata": {
  "kernelspec": {
   "display_name": "base",
   "language": "python",
   "name": "python3"
  },
  "language_info": {
   "codemirror_mode": {
    "name": "ipython",
    "version": 3
   },
   "file_extension": ".py",
   "mimetype": "text/x-python",
   "name": "python",
   "nbconvert_exporter": "python",
   "pygments_lexer": "ipython3",
   "version": "3.10.10"
  },
  "orig_nbformat": 4
 },
 "nbformat": 4,
 "nbformat_minor": 2
}
