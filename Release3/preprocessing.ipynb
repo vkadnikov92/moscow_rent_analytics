{
 "cells": [
  {
   "cell_type": "code",
   "execution_count": 51,
   "metadata": {
    "collapsed": true,
    "ExecuteTime": {
     "end_time": "2023-07-07T12:17:24.402211329Z",
     "start_time": "2023-07-07T12:17:24.354192744Z"
    }
   },
   "outputs": [],
   "source": [
    "import pandas as pd\n",
    "from transliterate import translit"
   ]
  },
  {
   "cell_type": "code",
   "execution_count": 52,
   "outputs": [
    {
     "data": {
      "text/plain": "Index(['Rooms', 'Subway', 'Not_Moscow', 'New_address', 'time_to_subway',\n       'time_to_subway_car', 'time_to_subway_total', 'total_square',\n       'kitchen_square', 'ok_pets', 'ok_kids', 'Balconies', 'Loggies',\n       'Connected_bathroom', 'Split_bathroom', 'Furniture', 'AC', 'Parking',\n       'house_type', 'floors_amount', 'flat_floor', 'Price', 'Utilities',\n       'Rent_length', 'Prepay', 'Pass_elevator', 'Cargo_elevator', 'windows',\n       'ceiling_height', 'Garbage_disposal', 'maintenance'],\n      dtype='object')"
     },
     "execution_count": 52,
     "metadata": {},
     "output_type": "execute_result"
    }
   ],
   "source": [
    "df = pd.read_csv('data2.csv')\n",
    "df.columns"
   ],
   "metadata": {
    "collapsed": false,
    "ExecuteTime": {
     "end_time": "2023-07-07T12:17:24.433146412Z",
     "start_time": "2023-07-07T12:17:24.401327917Z"
    }
   }
  },
  {
   "cell_type": "code",
   "execution_count": 53,
   "outputs": [],
   "source": [
    "# словари для районов\n",
    "VAO = [\n",
    "    'Авиамоторная',\n",
    "    'Андроновка',\n",
    "    'Белокаменная',\n",
    "    'Бульвар Рокоссовского',\n",
    "    'Измайлово',\n",
    "    'Измайловская',\n",
    "    'Локомотив',\n",
    "    'Лухмановская',\n",
    "    'Новогиреево',\n",
    "    'Новокосино',\n",
    "    'Партизанская',\n",
    "    'Первомайская',\n",
    "    'Перово',\n",
    "    'Преображенская площадь',\n",
    "    'Семеновская',\n",
    "    'Соколиная Гора',\n",
    "    'Сокольники',\n",
    "    'Улица Дмитриевского',\n",
    "    'Черкизовская',\n",
    "    'Шоссе Энтузиастов',\n",
    "    'Щелковская',\n",
    "    'Электрозаводская',\n",
    "    'Стромынка',\n",
    "]\n",
    "\n",
    "ZAO = [\n",
    "    'Багратионовская',\n",
    "    'Боровское шоссе',\n",
    "    'Киевская',\n",
    "    'Кропоткинская',\n",
    "    'Крылатское',\n",
    "    'Кунцевская',\n",
    "    'Кутузовская',\n",
    "    'Ломоносовский проспект',\n",
    "    'Минская',\n",
    "    'Мичуринский проспект',\n",
    "    'Молодежная',\n",
    "    'Новопеределкино',\n",
    "    'Озёрная',\n",
    "    'Озерная',\n",
    "    'Парк Победы',\n",
    "    'Пионерская',\n",
    "    'Проспект Вернадского',\n",
    "    'Рабочий Посёлок',\n",
    "    'Рабочий поселок',\n",
    "    'Рабочий посёлок',\n",
    "    'Рабочий Поселок',\n",
    "    'Раменки',\n",
    "    'Сетунь',\n",
    "    'Славянский бульвар',\n",
    "    'Славянский бульвар',\n",
    "    'Солнцево',\n",
    "    'Студенческая',\n",
    "    'Тропарёво',\n",
    "    'Тропарево',\n",
    "    'Филевский парк',\n",
    "    'Фили',\n",
    "    'Фили',\n",
    "    'Юго-Западная',\n",
    "    'Аминьевское шоссе',\n",
    "    'Давыдково',\n",
    "    'Дорогомиловская',\n",
    "    'Кунцевская',\n",
    "    'Проспект Вернадского',\n",
    "    'Улица Новаторов',\n",
    "]\n",
    "\n",
    "NAO = [\n",
    "    'Говорово',\n",
    "    'Коммунарка',\n",
    "    'Ольховая',\n",
    "    'Остафьево',\n",
    "    'Прокшино',\n",
    "    'Рассказовка',\n",
    "    'Румянцево',\n",
    "    'Саларьево',\n",
    "    'Филатов Луг',\n",
    "    'Щербинка',\n",
    "]\n",
    "\n",
    "SAO = [\n",
    "    'Аэропорт',\n",
    "    'Балтийская',\n",
    "    'Беговая',\n",
    "    'Беломорская',\n",
    "    'Бескудниково',\n",
    "    'Верхние Лихоборы',\n",
    "    'Водный стадион',\n",
    "    'Войковская',\n",
    "    'Гражданская',\n",
    "    'Дегунино',\n",
    "    'Динамо',\n",
    "    'Дмитровская',\n",
    "    'Зорге',\n",
    "    'Коптево',\n",
    "    'Красный Балтиец',\n",
    "    'Лихоборы',\n",
    "    'Марк',\n",
    "    'Окружная',\n",
    "    'Панфиловская',\n",
    "    'Петровский парк',\n",
    "    'Петровский Парк',\n",
    "    'Петровско-Разумовская',\n",
    "    'Покровское-Стрешнево',\n",
    "    'Полежаевская',\n",
    "    'Речной вокзал',\n",
    "    'Савеловская',\n",
    "    'Сокол',\n",
    "    'Стрешнево',\n",
    "    'Тимирязевская',\n",
    "    'Ховрино',\n",
    "    'Хорошёво',\n",
    "    'Хорошево',\n",
    "    'Хорошёвская',\n",
    "    'Хорошевская',\n",
    "    'ЦСКА',\n",
    "    'Беломорская улица',\n",
    "    'Петровский парк',\n",
    "    'Петровско-Разумовская',\n",
    "]\n",
    "\n",
    "SVAO = [\n",
    "    'Алексеевская',\n",
    "    'Алтуфьево',\n",
    "    'Бабушкинская',\n",
    "    'Бибирево',\n",
    "    'Ботанический сад',\n",
    "    'Бутырская',\n",
    "    'ВДНХ',\n",
    "    'Владыкино',\n",
    "    'Выставочный центр',\n",
    "    'Лианозово',\n",
    "    'Марьина роща',\n",
    "    'Медведково',\n",
    "    'Окружная',\n",
    "    'Отрадное',\n",
    "    'Ростокино',\n",
    "    'Савеловская',\n",
    "    'Свиблово',\n",
    "    'Телецентр',\n",
    "    'Улица Академика Королёва',\n",
    "    'Улица академика королева',\n",
    "    'Улица Академика королева',\n",
    "    'Улица академика Королева',\n",
    "    'Улица академика королёва',\n",
    "    'Улица Академика королёва',\n",
    "    'Улица академика Королёва',\n",
    "    'Улица Милашенкова',\n",
    "    'Улица Сергея Эйзенштейна',\n",
    "    'Фонвизинская',\n",
    "    'Бутырская',\n",
    "    'Фонвизинская',\n",
    "    'Шереметьевская',\n",
    "]\n",
    "\n",
    "SZAO = [\n",
    "    'Волоколамская',\n",
    "    'Митино',\n",
    "    'Мнёвники',\n",
    "    'Народное Ополчение',\n",
    "    'Народное ополчение',\n",
    "    'Октябрьское поле',\n",
    "    'Пенягино',\n",
    "    'Планерная',\n",
    "    'Пятницкое шоссе',\n",
    "    'Спартак',\n",
    "    'Строгино',\n",
    "    'Сходненская',\n",
    "    'Трикотажная',\n",
    "    'Тушинская',\n",
    "    'Щукинская',\n",
    "    'Нижние Мневники',\n",
    "    'Терехово',\n",
    "    'Улица Народного ополчения',\n",
    "]\n",
    "\n",
    "CAO = [\n",
    "    'Александровский сад',\n",
    "    'Арбатская',\n",
    "    'Баррикадная',\n",
    "    'Бауманская',\n",
    "    'Беговая',\n",
    "    'Белорусская',\n",
    "    'Библиотека имени Ленина',\n",
    "    'Боровицкая',\n",
    "    'Воробьевы горы',\n",
    "    'Выставочная',\n",
    "    'Деловой центр',\n",
    "    'Добрынинская',\n",
    "    'Достоевская',\n",
    "    'Каланчёвская',\n",
    "    'Китай-город',\n",
    "    'Комсомольская',\n",
    "    'Краснопресненская',\n",
    "    'Красносельская',\n",
    "    'Красные ворота',\n",
    "    'Крестьянская застава',\n",
    "    'Кузнецкий мост',\n",
    "    'Курская',\n",
    "    'Лубянка',\n",
    "    'Лужники',\n",
    "    'Марксистская',\n",
    "    'Маяковская',\n",
    "    'Международная',\n",
    "    'Менделеевская',\n",
    "    'Новокузнецкая',\n",
    "    'Новослободская',\n",
    "    'Октябрьская',\n",
    "    'Охотный ряд',\n",
    "    'Павелецкая',\n",
    "    'Парк Культуры',\n",
    "    'Площадь Ильича',\n",
    "    'Площадь Революции',\n",
    "    'Полянка',\n",
    "    'Пролетарская',\n",
    "    'Проспект Мира',\n",
    "    'Пушкинская',\n",
    "    'Рижская',\n",
    "    'Римская',\n",
    "    'Серпуховская',\n",
    "    'Смоленская',\n",
    "    'Смоленская',\n",
    "    'Спортивная',\n",
    "    'Сретенский бульвар',\n",
    "    'Сухаревская',\n",
    "    'Таганская',\n",
    "    'Тверская',\n",
    "    'Театральная',\n",
    "    'Тестовская',\n",
    "    'Третьяковская',\n",
    "    'Трубная',\n",
    "    'Тургеневская',\n",
    "    'Улицаа 1905 года',\n",
    "    'Фрунзенская',\n",
    "    'Цветной бульвар',\n",
    "    'Чеховская',\n",
    "    'Чистые пруды',\n",
    "    'Чкаловская',\n",
    "    'Шелепиха',\n",
    "    'Электрозаводская',\n",
    "    'Волхонка',\n",
    "    'Плющиха',\n",
    "    'Ржевская',\n",
    "    'Рубцовская',\n",
    "]\n",
    "\n",
    "UVAO = [\n",
    "    'Авиамоторная',\n",
    "    'Братиславская',\n",
    "    'Волгоградский проспект',\n",
    "    'Волжская',\n",
    "    'Выхино',\n",
    "    'Депо',\n",
    "    'Дубровка',\n",
    "    'Жулебино',\n",
    "    'Калитники',\n",
    "    'Кожуховская',\n",
    "    'Косино',\n",
    "    'Котельники',\n",
    "    'Кубанская',\n",
    "    'Кузьминки',\n",
    "    'Курьяново',\n",
    "    'Лермонтовский проспект',\n",
    "    'Лефортово',\n",
    "    'Люблино',\n",
    "    'Марьино',\n",
    "    'Москва-Товарная',\n",
    "    'Некрасовка',\n",
    "    'Нижегородская',\n",
    "    'Новохохловская',\n",
    "    'Новохохловская',\n",
    "    'Окская',\n",
    "    'Перерва',\n",
    "    'Печатники',\n",
    "    'Рязанский проспект',\n",
    "    'Стахановская',\n",
    "    'Текстильщики',\n",
    "    'Текстильщики',\n",
    "    'Угрешская',\n",
    "    'Юго-Восточная',\n",
    "    'Печатники',\n",
    "    'Текстильщики',\n",
    "]\n",
    "\n",
    "UZAO = [\n",
    "    'Академическая',\n",
    "    'Беляево',\n",
    "    'Битцевский парк',\n",
    "    'Бульвар адмирала Ушакова',\n",
    "    'Бульвар Адмирала ушакова',\n",
    "    'Бульвар адмирала ушакова',\n",
    "    'Бульвар Дмитрия Донского',\n",
    "    'Бунинская Аллея',\n",
    "    'Бунинская аллея',\n",
    "    'Бутово',\n",
    "    'Калужская',\n",
    "    'Каховская',\n",
    "    'Коньково',\n",
    "    'Нахимовский Проспект',\n",
    "    'Нахимовский проспект',\n",
    "    'Новоясеневская',\n",
    "    'Новые Черёмушки',\n",
    "    'Новые Черемушки',\n",
    "    'Новые черёмушки',\n",
    "    'Площадь Гагарина',\n",
    "    'Профсоюзная',\n",
    "    'Севастопольская',\n",
    "    'Зюзино',\n",
    "    'Теплый стан',\n",
    "    'Теплый Стан',\n",
    "    'Улица Горчакова',\n",
    "    'Улица Скобелевская',\n",
    "    'Улица Старокачаловская',\n",
    "    'Университет',\n",
    "    'Ясенево',\n",
    "    'Воронцовская',\n",
    "    'Каховская',\n",
    "    'Севастопольский проспект',\n",
    "]\n",
    "\n",
    "UAO = [\n",
    "    'Автозаводская',\n",
    "    'Автозаводская',\n",
    "    'Алма-Атинская',\n",
    "    'Аннино',\n",
    "    'Борисово',\n",
    "    'Варшавская',\n",
    "    'Верхние Котлы',\n",
    "    'Домодедовская',\n",
    "    'ЗИЛ',\n",
    "    'Зябликово',\n",
    "    'Кантемировская',\n",
    "    'Каширская',\n",
    "    'Коломенская',\n",
    "    'Красногвардейская',\n",
    "    'Красный Строитель',\n",
    "    'Крымская',\n",
    "    'Ленинский проспект',\n",
    "    'Лесопарковая',\n",
    "    'Москворечье',\n",
    "    'Нагатинская',\n",
    "    'Нагорная',\n",
    "    'Орехово',\n",
    "    'Покровское',\n",
    "    'Пражская',\n",
    "    'Технопарк',\n",
    "    'Тульская',\n",
    "    'Улица академика Янгеля',\n",
    "    'Царицыно',\n",
    "    'Царицыно',\n",
    "    'Чертановская',\n",
    "    'Шаболовская',\n",
    "    'Шипиловская',\n",
    "    'Южная',\n",
    "    'Каширская',\n",
    "    'Кленовый бульвар',\n",
    "]\n",
    "RAYONI = [\n",
    "    'Аникеевка',\n",
    "    'Баковка',\n",
    "    'Битца',\n",
    "    'Водники',\n",
    "    'Долгопрудная',\n",
    "    'Красногорская',\n",
    "    'Лобня',\n",
    "    'Мякинино',\n",
    "    'мякинино',\n",
    "    'Нахабино',\n",
    "    'Немчиновка',\n",
    "    'Новодачная',\n",
    "    'Одинцово',\n",
    "    'Опалиха',\n",
    "    'Павшино',\n",
    "    'Подольск',\n",
    "    'Силикатная',\n",
    "    'Сколково',\n",
    "    'Хлебниково',\n",
    "    'Шереметьевская',\n",
    "]"
   ],
   "metadata": {
    "collapsed": false,
    "ExecuteTime": {
     "end_time": "2023-07-07T12:17:24.448148267Z",
     "start_time": "2023-07-07T12:17:24.436562379Z"
    }
   }
  },
  {
   "cell_type": "code",
   "execution_count": 54,
   "outputs": [],
   "source": [
    "# функция поиска района\n",
    "def district(text5):\n",
    "    res = ''\n",
    "    if text5 in VAO:\n",
    "        res = 'VAO'\n",
    "    elif text5 in ZAO:\n",
    "        res = 'ZAO'\n",
    "    elif text5 in NAO:\n",
    "        res = 'NAO'\n",
    "    elif text5 in SAO:\n",
    "        res = 'SAO'\n",
    "    elif text5 in SVAO:\n",
    "        res = 'SVAO'\n",
    "    elif text5 in SZAO:\n",
    "        res = 'SZAO'\n",
    "    elif text5 in CAO:\n",
    "        res = 'CAO'\n",
    "    elif text5 in UVAO:\n",
    "        res = 'UVAO'\n",
    "    elif text5 in UAO:\n",
    "        res = 'UAO'\n",
    "    elif text5 in UZAO:\n",
    "        res = 'UZAO'\n",
    "    elif text5 in RAYONI:\n",
    "        res = 'RAYONI'\n",
    "    return res\n",
    "df['district'] = df['Subway'].apply(district)"
   ],
   "metadata": {
    "collapsed": false,
    "ExecuteTime": {
     "end_time": "2023-07-07T12:17:24.503543130Z",
     "start_time": "2023-07-07T12:17:24.451556068Z"
    }
   }
  },
  {
   "cell_type": "code",
   "execution_count": 55,
   "outputs": [
    {
     "data": {
      "text/plain": "       Rooms      Subway  Not_Moscow                            New_address  \\\n0          4  Смоленская           0          Москва, улица Новый Арбат, 27   \n1          4  Смоленская           0          Москва, улица Новый Арбат, 27   \n2          4  Смоленская           0          Москва, улица Новый Арбат, 27   \n3          4  Смоленская           0       Москва, переулок Плотников, 21С1   \n4          2   Арбатская           0          Москва, улица Новый Арбат, 15   \n...      ...         ...         ...                                    ...   \n19364      0    Говорово           1         Москва, Боровское шоссе, 2к7,    \n19365      1    Солнцево           1  Москва, Производственная улица, 8к1,    \n19366      2    Солнцево           0           Москва, Боровский проезд, 11   \n19367      2    Солнцево           1         Москва, улица Богданова, 6к1,    \n19368      2    Говорово           1         Москва, улица Богданова, 2к1,    \n\n       time_to_subway  time_to_subway_car  time_to_subway_total  total_square  \\\n0                   9                   0                     9           200   \n1                   8                   0                     8           198   \n2                   7                   0                     7           200   \n3                   3                   0                     3           170   \n4                   7                   0                     7            58   \n...               ...                 ...                   ...           ...   \n19364               8                   0                     8            35   \n19365               7                   0                     7            38   \n19366               6                   0                     6            43   \n19367              11                   0                    11            52   \n19368              10                   0                    10            90   \n\n       kitchen_square  ok_pets  ...  district_NAO  district_RAYONI  \\\n0                20.0        1  ...             0                0   \n1                18.0        0  ...             0                0   \n2                 4.0        0  ...             0                0   \n3                17.0        1  ...             0                0   \n4                 5.0        0  ...             0                0   \n...               ...      ...  ...           ...              ...   \n19364             8.0        0  ...             1                0   \n19365            11.0        0  ...             0                0   \n19366            43.1        0  ...             0                0   \n19367            10.0        0  ...             0                0   \n19368            15.5        1  ...             1                0   \n\n       district_SAO  district_SVAO  district_SZAO  district_UAO  \\\n0                 0              0              0             0   \n1                 0              0              0             0   \n2                 0              0              0             0   \n3                 0              0              0             0   \n4                 0              0              0             0   \n...             ...            ...            ...           ...   \n19364             0              0              0             0   \n19365             0              0              0             0   \n19366             0              0              0             0   \n19367             0              0              0             0   \n19368             0              0              0             0   \n\n       district_UVAO district_UZAO district_VAO  district_ZAO  \n0                  0             0            0             0  \n1                  0             0            0             0  \n2                  0             0            0             0  \n3                  0             0            0             0  \n4                  0             0            0             0  \n...              ...           ...          ...           ...  \n19364              0             0            0             0  \n19365              0             0            0             1  \n19366              0             0            0             1  \n19367              0             0            0             1  \n19368              0             0            0             0  \n\n[19369 rows x 43 columns]",
      "text/html": "<div>\n<style scoped>\n    .dataframe tbody tr th:only-of-type {\n        vertical-align: middle;\n    }\n\n    .dataframe tbody tr th {\n        vertical-align: top;\n    }\n\n    .dataframe thead th {\n        text-align: right;\n    }\n</style>\n<table border=\"1\" class=\"dataframe\">\n  <thead>\n    <tr style=\"text-align: right;\">\n      <th></th>\n      <th>Rooms</th>\n      <th>Subway</th>\n      <th>Not_Moscow</th>\n      <th>New_address</th>\n      <th>time_to_subway</th>\n      <th>time_to_subway_car</th>\n      <th>time_to_subway_total</th>\n      <th>total_square</th>\n      <th>kitchen_square</th>\n      <th>ok_pets</th>\n      <th>...</th>\n      <th>district_NAO</th>\n      <th>district_RAYONI</th>\n      <th>district_SAO</th>\n      <th>district_SVAO</th>\n      <th>district_SZAO</th>\n      <th>district_UAO</th>\n      <th>district_UVAO</th>\n      <th>district_UZAO</th>\n      <th>district_VAO</th>\n      <th>district_ZAO</th>\n    </tr>\n  </thead>\n  <tbody>\n    <tr>\n      <th>0</th>\n      <td>4</td>\n      <td>Смоленская</td>\n      <td>0</td>\n      <td>Москва, улица Новый Арбат, 27</td>\n      <td>9</td>\n      <td>0</td>\n      <td>9</td>\n      <td>200</td>\n      <td>20.0</td>\n      <td>1</td>\n      <td>...</td>\n      <td>0</td>\n      <td>0</td>\n      <td>0</td>\n      <td>0</td>\n      <td>0</td>\n      <td>0</td>\n      <td>0</td>\n      <td>0</td>\n      <td>0</td>\n      <td>0</td>\n    </tr>\n    <tr>\n      <th>1</th>\n      <td>4</td>\n      <td>Смоленская</td>\n      <td>0</td>\n      <td>Москва, улица Новый Арбат, 27</td>\n      <td>8</td>\n      <td>0</td>\n      <td>8</td>\n      <td>198</td>\n      <td>18.0</td>\n      <td>0</td>\n      <td>...</td>\n      <td>0</td>\n      <td>0</td>\n      <td>0</td>\n      <td>0</td>\n      <td>0</td>\n      <td>0</td>\n      <td>0</td>\n      <td>0</td>\n      <td>0</td>\n      <td>0</td>\n    </tr>\n    <tr>\n      <th>2</th>\n      <td>4</td>\n      <td>Смоленская</td>\n      <td>0</td>\n      <td>Москва, улица Новый Арбат, 27</td>\n      <td>7</td>\n      <td>0</td>\n      <td>7</td>\n      <td>200</td>\n      <td>4.0</td>\n      <td>0</td>\n      <td>...</td>\n      <td>0</td>\n      <td>0</td>\n      <td>0</td>\n      <td>0</td>\n      <td>0</td>\n      <td>0</td>\n      <td>0</td>\n      <td>0</td>\n      <td>0</td>\n      <td>0</td>\n    </tr>\n    <tr>\n      <th>3</th>\n      <td>4</td>\n      <td>Смоленская</td>\n      <td>0</td>\n      <td>Москва, переулок Плотников, 21С1</td>\n      <td>3</td>\n      <td>0</td>\n      <td>3</td>\n      <td>170</td>\n      <td>17.0</td>\n      <td>1</td>\n      <td>...</td>\n      <td>0</td>\n      <td>0</td>\n      <td>0</td>\n      <td>0</td>\n      <td>0</td>\n      <td>0</td>\n      <td>0</td>\n      <td>0</td>\n      <td>0</td>\n      <td>0</td>\n    </tr>\n    <tr>\n      <th>4</th>\n      <td>2</td>\n      <td>Арбатская</td>\n      <td>0</td>\n      <td>Москва, улица Новый Арбат, 15</td>\n      <td>7</td>\n      <td>0</td>\n      <td>7</td>\n      <td>58</td>\n      <td>5.0</td>\n      <td>0</td>\n      <td>...</td>\n      <td>0</td>\n      <td>0</td>\n      <td>0</td>\n      <td>0</td>\n      <td>0</td>\n      <td>0</td>\n      <td>0</td>\n      <td>0</td>\n      <td>0</td>\n      <td>0</td>\n    </tr>\n    <tr>\n      <th>...</th>\n      <td>...</td>\n      <td>...</td>\n      <td>...</td>\n      <td>...</td>\n      <td>...</td>\n      <td>...</td>\n      <td>...</td>\n      <td>...</td>\n      <td>...</td>\n      <td>...</td>\n      <td>...</td>\n      <td>...</td>\n      <td>...</td>\n      <td>...</td>\n      <td>...</td>\n      <td>...</td>\n      <td>...</td>\n      <td>...</td>\n      <td>...</td>\n      <td>...</td>\n      <td>...</td>\n    </tr>\n    <tr>\n      <th>19364</th>\n      <td>0</td>\n      <td>Говорово</td>\n      <td>1</td>\n      <td>Москва, Боровское шоссе, 2к7,</td>\n      <td>8</td>\n      <td>0</td>\n      <td>8</td>\n      <td>35</td>\n      <td>8.0</td>\n      <td>0</td>\n      <td>...</td>\n      <td>1</td>\n      <td>0</td>\n      <td>0</td>\n      <td>0</td>\n      <td>0</td>\n      <td>0</td>\n      <td>0</td>\n      <td>0</td>\n      <td>0</td>\n      <td>0</td>\n    </tr>\n    <tr>\n      <th>19365</th>\n      <td>1</td>\n      <td>Солнцево</td>\n      <td>1</td>\n      <td>Москва, Производственная улица, 8к1,</td>\n      <td>7</td>\n      <td>0</td>\n      <td>7</td>\n      <td>38</td>\n      <td>11.0</td>\n      <td>0</td>\n      <td>...</td>\n      <td>0</td>\n      <td>0</td>\n      <td>0</td>\n      <td>0</td>\n      <td>0</td>\n      <td>0</td>\n      <td>0</td>\n      <td>0</td>\n      <td>0</td>\n      <td>1</td>\n    </tr>\n    <tr>\n      <th>19366</th>\n      <td>2</td>\n      <td>Солнцево</td>\n      <td>0</td>\n      <td>Москва, Боровский проезд, 11</td>\n      <td>6</td>\n      <td>0</td>\n      <td>6</td>\n      <td>43</td>\n      <td>43.1</td>\n      <td>0</td>\n      <td>...</td>\n      <td>0</td>\n      <td>0</td>\n      <td>0</td>\n      <td>0</td>\n      <td>0</td>\n      <td>0</td>\n      <td>0</td>\n      <td>0</td>\n      <td>0</td>\n      <td>1</td>\n    </tr>\n    <tr>\n      <th>19367</th>\n      <td>2</td>\n      <td>Солнцево</td>\n      <td>1</td>\n      <td>Москва, улица Богданова, 6к1,</td>\n      <td>11</td>\n      <td>0</td>\n      <td>11</td>\n      <td>52</td>\n      <td>10.0</td>\n      <td>0</td>\n      <td>...</td>\n      <td>0</td>\n      <td>0</td>\n      <td>0</td>\n      <td>0</td>\n      <td>0</td>\n      <td>0</td>\n      <td>0</td>\n      <td>0</td>\n      <td>0</td>\n      <td>1</td>\n    </tr>\n    <tr>\n      <th>19368</th>\n      <td>2</td>\n      <td>Говорово</td>\n      <td>1</td>\n      <td>Москва, улица Богданова, 2к1,</td>\n      <td>10</td>\n      <td>0</td>\n      <td>10</td>\n      <td>90</td>\n      <td>15.5</td>\n      <td>1</td>\n      <td>...</td>\n      <td>1</td>\n      <td>0</td>\n      <td>0</td>\n      <td>0</td>\n      <td>0</td>\n      <td>0</td>\n      <td>0</td>\n      <td>0</td>\n      <td>0</td>\n      <td>0</td>\n    </tr>\n  </tbody>\n</table>\n<p>19369 rows × 43 columns</p>\n</div>"
     },
     "execution_count": 55,
     "metadata": {},
     "output_type": "execute_result"
    }
   ],
   "source": [
    "# район в бинарную систему\n",
    "dist = pd.get_dummies(df['district'], prefix='district')\n",
    "dist = dist.astype(int)\n",
    "df = pd.concat([df, dist], axis=1)\n",
    "df = df.drop(['district'], axis=1)\n",
    "df"
   ],
   "metadata": {
    "collapsed": false,
    "ExecuteTime": {
     "end_time": "2023-07-07T12:17:24.536332732Z",
     "start_time": "2023-07-07T12:17:24.506580294Z"
    }
   }
  },
  {
   "cell_type": "code",
   "execution_count": 56,
   "outputs": [
    {
     "data": {
      "text/plain": "       Rooms  Not_Moscow                            New_address  \\\n0          4           0          Москва, улица Новый Арбат, 27   \n1          4           0          Москва, улица Новый Арбат, 27   \n2          4           0          Москва, улица Новый Арбат, 27   \n3          4           0       Москва, переулок Плотников, 21С1   \n4          2           0          Москва, улица Новый Арбат, 15   \n...      ...         ...                                    ...   \n19364      0           1         Москва, Боровское шоссе, 2к7,    \n19365      1           1  Москва, Производственная улица, 8к1,    \n19366      2           0           Москва, Боровский проезд, 11   \n19367      2           1         Москва, улица Богданова, 6к1,    \n19368      2           1         Москва, улица Богданова, 2к1,    \n\n       time_to_subway  time_to_subway_car  time_to_subway_total  total_square  \\\n0                   9                   0                     9           200   \n1                   8                   0                     8           198   \n2                   7                   0                     7           200   \n3                   3                   0                     3           170   \n4                   7                   0                     7            58   \n...               ...                 ...                   ...           ...   \n19364               8                   0                     8            35   \n19365               7                   0                     7            38   \n19366               6                   0                     6            43   \n19367              11                   0                    11            52   \n19368              10                   0                    10            90   \n\n       kitchen_square  ok_pets  ok_kids  ...  station_Schelkovskaja  \\\n0                20.0        1        1  ...                      0   \n1                18.0        0        1  ...                      0   \n2                 4.0        0        1  ...                      0   \n3                17.0        1        0  ...                      0   \n4                 5.0        0        0  ...                      0   \n...               ...      ...      ...  ...                    ...   \n19364             8.0        0        0  ...                      0   \n19365            11.0        0        0  ...                      0   \n19366            43.1        0        1  ...                      0   \n19367            10.0        0        0  ...                      0   \n19368            15.5        1        1  ...                      0   \n\n       station_Scherbinka  station_Schukinskaja  station_Elektrozavodskaja  \\\n0                       0                     0                          0   \n1                       0                     0                          0   \n2                       0                     0                          0   \n3                       0                     0                          0   \n4                       0                     0                          0   \n...                   ...                   ...                        ...   \n19364                   0                     0                          0   \n19365                   0                     0                          0   \n19366                   0                     0                          0   \n19367                   0                     0                          0   \n19368                   0                     0                          0   \n\n       station_Jugo-Vostochnaja  station_Jugo-Zapadnaja station_Juzhnaja  \\\n0                             0                       0                0   \n1                             0                       0                0   \n2                             0                       0                0   \n3                             0                       0                0   \n4                             0                       0                0   \n...                         ...                     ...              ...   \n19364                         0                       0                0   \n19365                         0                       0                0   \n19366                         0                       0                0   \n19367                         0                       0                0   \n19368                         0                       0                0   \n\n      station_Jasenevo  station_Jahromskaja  \\\n0                    0                    0   \n1                    0                    0   \n2                    0                    0   \n3                    0                    0   \n4                    0                    0   \n...                ...                  ...   \n19364                0                    0   \n19365                0                    0   \n19366                0                    0   \n19367                0                    0   \n19368                0                    0   \n\n       station_ulitsa Narodnogo opolchenija  \n0                                         0  \n1                                         0  \n2                                         0  \n3                                         0  \n4                                         0  \n...                                     ...  \n19364                                     0  \n19365                                     0  \n19366                                     0  \n19367                                     0  \n19368                                     0  \n\n[19369 rows x 319 columns]",
      "text/html": "<div>\n<style scoped>\n    .dataframe tbody tr th:only-of-type {\n        vertical-align: middle;\n    }\n\n    .dataframe tbody tr th {\n        vertical-align: top;\n    }\n\n    .dataframe thead th {\n        text-align: right;\n    }\n</style>\n<table border=\"1\" class=\"dataframe\">\n  <thead>\n    <tr style=\"text-align: right;\">\n      <th></th>\n      <th>Rooms</th>\n      <th>Not_Moscow</th>\n      <th>New_address</th>\n      <th>time_to_subway</th>\n      <th>time_to_subway_car</th>\n      <th>time_to_subway_total</th>\n      <th>total_square</th>\n      <th>kitchen_square</th>\n      <th>ok_pets</th>\n      <th>ok_kids</th>\n      <th>...</th>\n      <th>station_Schelkovskaja</th>\n      <th>station_Scherbinka</th>\n      <th>station_Schukinskaja</th>\n      <th>station_Elektrozavodskaja</th>\n      <th>station_Jugo-Vostochnaja</th>\n      <th>station_Jugo-Zapadnaja</th>\n      <th>station_Juzhnaja</th>\n      <th>station_Jasenevo</th>\n      <th>station_Jahromskaja</th>\n      <th>station_ulitsa Narodnogo opolchenija</th>\n    </tr>\n  </thead>\n  <tbody>\n    <tr>\n      <th>0</th>\n      <td>4</td>\n      <td>0</td>\n      <td>Москва, улица Новый Арбат, 27</td>\n      <td>9</td>\n      <td>0</td>\n      <td>9</td>\n      <td>200</td>\n      <td>20.0</td>\n      <td>1</td>\n      <td>1</td>\n      <td>...</td>\n      <td>0</td>\n      <td>0</td>\n      <td>0</td>\n      <td>0</td>\n      <td>0</td>\n      <td>0</td>\n      <td>0</td>\n      <td>0</td>\n      <td>0</td>\n      <td>0</td>\n    </tr>\n    <tr>\n      <th>1</th>\n      <td>4</td>\n      <td>0</td>\n      <td>Москва, улица Новый Арбат, 27</td>\n      <td>8</td>\n      <td>0</td>\n      <td>8</td>\n      <td>198</td>\n      <td>18.0</td>\n      <td>0</td>\n      <td>1</td>\n      <td>...</td>\n      <td>0</td>\n      <td>0</td>\n      <td>0</td>\n      <td>0</td>\n      <td>0</td>\n      <td>0</td>\n      <td>0</td>\n      <td>0</td>\n      <td>0</td>\n      <td>0</td>\n    </tr>\n    <tr>\n      <th>2</th>\n      <td>4</td>\n      <td>0</td>\n      <td>Москва, улица Новый Арбат, 27</td>\n      <td>7</td>\n      <td>0</td>\n      <td>7</td>\n      <td>200</td>\n      <td>4.0</td>\n      <td>0</td>\n      <td>1</td>\n      <td>...</td>\n      <td>0</td>\n      <td>0</td>\n      <td>0</td>\n      <td>0</td>\n      <td>0</td>\n      <td>0</td>\n      <td>0</td>\n      <td>0</td>\n      <td>0</td>\n      <td>0</td>\n    </tr>\n    <tr>\n      <th>3</th>\n      <td>4</td>\n      <td>0</td>\n      <td>Москва, переулок Плотников, 21С1</td>\n      <td>3</td>\n      <td>0</td>\n      <td>3</td>\n      <td>170</td>\n      <td>17.0</td>\n      <td>1</td>\n      <td>0</td>\n      <td>...</td>\n      <td>0</td>\n      <td>0</td>\n      <td>0</td>\n      <td>0</td>\n      <td>0</td>\n      <td>0</td>\n      <td>0</td>\n      <td>0</td>\n      <td>0</td>\n      <td>0</td>\n    </tr>\n    <tr>\n      <th>4</th>\n      <td>2</td>\n      <td>0</td>\n      <td>Москва, улица Новый Арбат, 15</td>\n      <td>7</td>\n      <td>0</td>\n      <td>7</td>\n      <td>58</td>\n      <td>5.0</td>\n      <td>0</td>\n      <td>0</td>\n      <td>...</td>\n      <td>0</td>\n      <td>0</td>\n      <td>0</td>\n      <td>0</td>\n      <td>0</td>\n      <td>0</td>\n      <td>0</td>\n      <td>0</td>\n      <td>0</td>\n      <td>0</td>\n    </tr>\n    <tr>\n      <th>...</th>\n      <td>...</td>\n      <td>...</td>\n      <td>...</td>\n      <td>...</td>\n      <td>...</td>\n      <td>...</td>\n      <td>...</td>\n      <td>...</td>\n      <td>...</td>\n      <td>...</td>\n      <td>...</td>\n      <td>...</td>\n      <td>...</td>\n      <td>...</td>\n      <td>...</td>\n      <td>...</td>\n      <td>...</td>\n      <td>...</td>\n      <td>...</td>\n      <td>...</td>\n      <td>...</td>\n    </tr>\n    <tr>\n      <th>19364</th>\n      <td>0</td>\n      <td>1</td>\n      <td>Москва, Боровское шоссе, 2к7,</td>\n      <td>8</td>\n      <td>0</td>\n      <td>8</td>\n      <td>35</td>\n      <td>8.0</td>\n      <td>0</td>\n      <td>0</td>\n      <td>...</td>\n      <td>0</td>\n      <td>0</td>\n      <td>0</td>\n      <td>0</td>\n      <td>0</td>\n      <td>0</td>\n      <td>0</td>\n      <td>0</td>\n      <td>0</td>\n      <td>0</td>\n    </tr>\n    <tr>\n      <th>19365</th>\n      <td>1</td>\n      <td>1</td>\n      <td>Москва, Производственная улица, 8к1,</td>\n      <td>7</td>\n      <td>0</td>\n      <td>7</td>\n      <td>38</td>\n      <td>11.0</td>\n      <td>0</td>\n      <td>0</td>\n      <td>...</td>\n      <td>0</td>\n      <td>0</td>\n      <td>0</td>\n      <td>0</td>\n      <td>0</td>\n      <td>0</td>\n      <td>0</td>\n      <td>0</td>\n      <td>0</td>\n      <td>0</td>\n    </tr>\n    <tr>\n      <th>19366</th>\n      <td>2</td>\n      <td>0</td>\n      <td>Москва, Боровский проезд, 11</td>\n      <td>6</td>\n      <td>0</td>\n      <td>6</td>\n      <td>43</td>\n      <td>43.1</td>\n      <td>0</td>\n      <td>1</td>\n      <td>...</td>\n      <td>0</td>\n      <td>0</td>\n      <td>0</td>\n      <td>0</td>\n      <td>0</td>\n      <td>0</td>\n      <td>0</td>\n      <td>0</td>\n      <td>0</td>\n      <td>0</td>\n    </tr>\n    <tr>\n      <th>19367</th>\n      <td>2</td>\n      <td>1</td>\n      <td>Москва, улица Богданова, 6к1,</td>\n      <td>11</td>\n      <td>0</td>\n      <td>11</td>\n      <td>52</td>\n      <td>10.0</td>\n      <td>0</td>\n      <td>0</td>\n      <td>...</td>\n      <td>0</td>\n      <td>0</td>\n      <td>0</td>\n      <td>0</td>\n      <td>0</td>\n      <td>0</td>\n      <td>0</td>\n      <td>0</td>\n      <td>0</td>\n      <td>0</td>\n    </tr>\n    <tr>\n      <th>19368</th>\n      <td>2</td>\n      <td>1</td>\n      <td>Москва, улица Богданова, 2к1,</td>\n      <td>10</td>\n      <td>0</td>\n      <td>10</td>\n      <td>90</td>\n      <td>15.5</td>\n      <td>1</td>\n      <td>1</td>\n      <td>...</td>\n      <td>0</td>\n      <td>0</td>\n      <td>0</td>\n      <td>0</td>\n      <td>0</td>\n      <td>0</td>\n      <td>0</td>\n      <td>0</td>\n      <td>0</td>\n      <td>0</td>\n    </tr>\n  </tbody>\n</table>\n<p>19369 rows × 319 columns</p>\n</div>"
     },
     "execution_count": 56,
     "metadata": {},
     "output_type": "execute_result"
    }
   ],
   "source": [
    "# станция метро в бинарную систему\n",
    "dummies_sub = pd.get_dummies(df['Subway'], prefix='station')\n",
    "transliterated_columns = [translit(column, 'ru', reversed=True) for column in dummies_sub.columns]\n",
    "dummies_sub.columns = transliterated_columns\n",
    "dummies_sub = dummies_sub.astype(int)\n",
    "df = pd.concat([df, dummies_sub], axis=1)\n",
    "df = df.drop(['Subway'], axis=1)\n",
    "df"
   ],
   "metadata": {
    "collapsed": false,
    "ExecuteTime": {
     "end_time": "2023-07-07T12:17:24.606029593Z",
     "start_time": "2023-07-07T12:17:24.535501328Z"
    }
   }
  },
  {
   "cell_type": "code",
   "execution_count": 57,
   "outputs": [
    {
     "data": {
      "text/plain": "       Rooms  Not_Moscow                            New_address  \\\n0          4           0          Москва, улица Новый Арбат, 27   \n1          4           0          Москва, улица Новый Арбат, 27   \n2          4           0          Москва, улица Новый Арбат, 27   \n3          4           0       Москва, переулок Плотников, 21С1   \n4          2           0          Москва, улица Новый Арбат, 15   \n...      ...         ...                                    ...   \n19364      0           1         Москва, Боровское шоссе, 2к7,    \n19365      1           1  Москва, Производственная улица, 8к1,    \n19366      2           0           Москва, Боровский проезд, 11   \n19367      2           1         Москва, улица Богданова, 6к1,    \n19368      2           1         Москва, улица Богданова, 2к1,    \n\n       time_to_subway  time_to_subway_car  time_to_subway_total  total_square  \\\n0                   9                   0                     9           200   \n1                   8                   0                     8           198   \n2                   7                   0                     7           200   \n3                   3                   0                     3           170   \n4                   7                   0                     7            58   \n...               ...                 ...                   ...           ...   \n19364               8                   0                     8            35   \n19365               7                   0                     7            38   \n19366               6                   0                     6            43   \n19367              11                   0                    11            52   \n19368              10                   0                    10            90   \n\n       kitchen_square  ok_pets  ok_kids  ...  Block_house  wooden_house  \\\n0                20.0        1        1  ...            0             0   \n1                18.0        0        1  ...            0             0   \n2                 4.0        0        1  ...            0             0   \n3                17.0        1        0  ...            0             0   \n4                 5.0        0        0  ...            0             0   \n...               ...      ...      ...  ...          ...           ...   \n19364             8.0        0        0  ...            0             0   \n19365            11.0        0        0  ...            0             0   \n19366            43.1        0        1  ...            0             0   \n19367            10.0        0        0  ...            0             0   \n19368            15.5        1        1  ...            0             0   \n\n       brick_house  BrickMonolith_house  Monolith_house  Undefined_house  \\\n0                0                    0               1                0   \n1                0                    1               0                0   \n2                0                    0               0                1   \n3                0                    0               0                1   \n4                0                    0               0                0   \n...            ...                  ...             ...              ...   \n19364            0                    0               0                1   \n19365            0                    0               1                0   \n19366            1                    0               0                0   \n19367            0                    0               1                0   \n19368            0                    0               0                0   \n\n      Panel_house  StalinType_house  Shield_house  OutdateFond_house  \n0               0                 0             0                  0  \n1               0                 0             0                  0  \n2               0                 0             0                  0  \n3               0                 0             0                  0  \n4               1                 0             0                  0  \n...           ...               ...           ...                ...  \n19364           0                 0             0                  0  \n19365           0                 0             0                  0  \n19366           0                 0             0                  0  \n19367           0                 0             0                  0  \n19368           1                 0             0                  0  \n\n[19369 rows x 328 columns]",
      "text/html": "<div>\n<style scoped>\n    .dataframe tbody tr th:only-of-type {\n        vertical-align: middle;\n    }\n\n    .dataframe tbody tr th {\n        vertical-align: top;\n    }\n\n    .dataframe thead th {\n        text-align: right;\n    }\n</style>\n<table border=\"1\" class=\"dataframe\">\n  <thead>\n    <tr style=\"text-align: right;\">\n      <th></th>\n      <th>Rooms</th>\n      <th>Not_Moscow</th>\n      <th>New_address</th>\n      <th>time_to_subway</th>\n      <th>time_to_subway_car</th>\n      <th>time_to_subway_total</th>\n      <th>total_square</th>\n      <th>kitchen_square</th>\n      <th>ok_pets</th>\n      <th>ok_kids</th>\n      <th>...</th>\n      <th>Block_house</th>\n      <th>wooden_house</th>\n      <th>brick_house</th>\n      <th>BrickMonolith_house</th>\n      <th>Monolith_house</th>\n      <th>Undefined_house</th>\n      <th>Panel_house</th>\n      <th>StalinType_house</th>\n      <th>Shield_house</th>\n      <th>OutdateFond_house</th>\n    </tr>\n  </thead>\n  <tbody>\n    <tr>\n      <th>0</th>\n      <td>4</td>\n      <td>0</td>\n      <td>Москва, улица Новый Арбат, 27</td>\n      <td>9</td>\n      <td>0</td>\n      <td>9</td>\n      <td>200</td>\n      <td>20.0</td>\n      <td>1</td>\n      <td>1</td>\n      <td>...</td>\n      <td>0</td>\n      <td>0</td>\n      <td>0</td>\n      <td>0</td>\n      <td>1</td>\n      <td>0</td>\n      <td>0</td>\n      <td>0</td>\n      <td>0</td>\n      <td>0</td>\n    </tr>\n    <tr>\n      <th>1</th>\n      <td>4</td>\n      <td>0</td>\n      <td>Москва, улица Новый Арбат, 27</td>\n      <td>8</td>\n      <td>0</td>\n      <td>8</td>\n      <td>198</td>\n      <td>18.0</td>\n      <td>0</td>\n      <td>1</td>\n      <td>...</td>\n      <td>0</td>\n      <td>0</td>\n      <td>0</td>\n      <td>1</td>\n      <td>0</td>\n      <td>0</td>\n      <td>0</td>\n      <td>0</td>\n      <td>0</td>\n      <td>0</td>\n    </tr>\n    <tr>\n      <th>2</th>\n      <td>4</td>\n      <td>0</td>\n      <td>Москва, улица Новый Арбат, 27</td>\n      <td>7</td>\n      <td>0</td>\n      <td>7</td>\n      <td>200</td>\n      <td>4.0</td>\n      <td>0</td>\n      <td>1</td>\n      <td>...</td>\n      <td>0</td>\n      <td>0</td>\n      <td>0</td>\n      <td>0</td>\n      <td>0</td>\n      <td>1</td>\n      <td>0</td>\n      <td>0</td>\n      <td>0</td>\n      <td>0</td>\n    </tr>\n    <tr>\n      <th>3</th>\n      <td>4</td>\n      <td>0</td>\n      <td>Москва, переулок Плотников, 21С1</td>\n      <td>3</td>\n      <td>0</td>\n      <td>3</td>\n      <td>170</td>\n      <td>17.0</td>\n      <td>1</td>\n      <td>0</td>\n      <td>...</td>\n      <td>0</td>\n      <td>0</td>\n      <td>0</td>\n      <td>0</td>\n      <td>0</td>\n      <td>1</td>\n      <td>0</td>\n      <td>0</td>\n      <td>0</td>\n      <td>0</td>\n    </tr>\n    <tr>\n      <th>4</th>\n      <td>2</td>\n      <td>0</td>\n      <td>Москва, улица Новый Арбат, 15</td>\n      <td>7</td>\n      <td>0</td>\n      <td>7</td>\n      <td>58</td>\n      <td>5.0</td>\n      <td>0</td>\n      <td>0</td>\n      <td>...</td>\n      <td>0</td>\n      <td>0</td>\n      <td>0</td>\n      <td>0</td>\n      <td>0</td>\n      <td>0</td>\n      <td>1</td>\n      <td>0</td>\n      <td>0</td>\n      <td>0</td>\n    </tr>\n    <tr>\n      <th>...</th>\n      <td>...</td>\n      <td>...</td>\n      <td>...</td>\n      <td>...</td>\n      <td>...</td>\n      <td>...</td>\n      <td>...</td>\n      <td>...</td>\n      <td>...</td>\n      <td>...</td>\n      <td>...</td>\n      <td>...</td>\n      <td>...</td>\n      <td>...</td>\n      <td>...</td>\n      <td>...</td>\n      <td>...</td>\n      <td>...</td>\n      <td>...</td>\n      <td>...</td>\n      <td>...</td>\n    </tr>\n    <tr>\n      <th>19364</th>\n      <td>0</td>\n      <td>1</td>\n      <td>Москва, Боровское шоссе, 2к7,</td>\n      <td>8</td>\n      <td>0</td>\n      <td>8</td>\n      <td>35</td>\n      <td>8.0</td>\n      <td>0</td>\n      <td>0</td>\n      <td>...</td>\n      <td>0</td>\n      <td>0</td>\n      <td>0</td>\n      <td>0</td>\n      <td>0</td>\n      <td>1</td>\n      <td>0</td>\n      <td>0</td>\n      <td>0</td>\n      <td>0</td>\n    </tr>\n    <tr>\n      <th>19365</th>\n      <td>1</td>\n      <td>1</td>\n      <td>Москва, Производственная улица, 8к1,</td>\n      <td>7</td>\n      <td>0</td>\n      <td>7</td>\n      <td>38</td>\n      <td>11.0</td>\n      <td>0</td>\n      <td>0</td>\n      <td>...</td>\n      <td>0</td>\n      <td>0</td>\n      <td>0</td>\n      <td>0</td>\n      <td>1</td>\n      <td>0</td>\n      <td>0</td>\n      <td>0</td>\n      <td>0</td>\n      <td>0</td>\n    </tr>\n    <tr>\n      <th>19366</th>\n      <td>2</td>\n      <td>0</td>\n      <td>Москва, Боровский проезд, 11</td>\n      <td>6</td>\n      <td>0</td>\n      <td>6</td>\n      <td>43</td>\n      <td>43.1</td>\n      <td>0</td>\n      <td>1</td>\n      <td>...</td>\n      <td>0</td>\n      <td>0</td>\n      <td>1</td>\n      <td>0</td>\n      <td>0</td>\n      <td>0</td>\n      <td>0</td>\n      <td>0</td>\n      <td>0</td>\n      <td>0</td>\n    </tr>\n    <tr>\n      <th>19367</th>\n      <td>2</td>\n      <td>1</td>\n      <td>Москва, улица Богданова, 6к1,</td>\n      <td>11</td>\n      <td>0</td>\n      <td>11</td>\n      <td>52</td>\n      <td>10.0</td>\n      <td>0</td>\n      <td>0</td>\n      <td>...</td>\n      <td>0</td>\n      <td>0</td>\n      <td>0</td>\n      <td>0</td>\n      <td>1</td>\n      <td>0</td>\n      <td>0</td>\n      <td>0</td>\n      <td>0</td>\n      <td>0</td>\n    </tr>\n    <tr>\n      <th>19368</th>\n      <td>2</td>\n      <td>1</td>\n      <td>Москва, улица Богданова, 2к1,</td>\n      <td>10</td>\n      <td>0</td>\n      <td>10</td>\n      <td>90</td>\n      <td>15.5</td>\n      <td>1</td>\n      <td>1</td>\n      <td>...</td>\n      <td>0</td>\n      <td>0</td>\n      <td>0</td>\n      <td>0</td>\n      <td>0</td>\n      <td>0</td>\n      <td>1</td>\n      <td>0</td>\n      <td>0</td>\n      <td>0</td>\n    </tr>\n  </tbody>\n</table>\n<p>19369 rows × 328 columns</p>\n</div>"
     },
     "execution_count": 57,
     "metadata": {},
     "output_type": "execute_result"
    }
   ],
   "source": [
    "# тип дома в бин систему\n",
    "dummies = pd.get_dummies(df['house_type'], prefix='')\n",
    "dummies = dummies.rename(columns={'_Блочный':'Block_house','_Деревянный':'wooden_house','_Кирпичный':'brick_house','_Монолитно-кирпичный':'BrickMonolith_house','_Монолитный':'Monolith_house','_Неизвестно':'Undefined_house','_Панельный':'Panel_house','_Сталинский':'StalinType_house','_Щитовой':'Shield_house','_старый фонд':\"OutdateFond_house\"})\n",
    "dummies = dummies.astype(int)\n",
    "df = pd.concat([df, dummies], axis=1)\n",
    "df = df.drop(['house_type'], axis=1)\n",
    "df"
   ],
   "metadata": {
    "collapsed": false,
    "ExecuteTime": {
     "end_time": "2023-07-07T12:17:24.690252635Z",
     "start_time": "2023-07-07T12:17:24.604849593Z"
    }
   }
  },
  {
   "cell_type": "code",
   "execution_count": 58,
   "outputs": [
    {
     "data": {
      "text/plain": "       Rooms  Not_Moscow                            New_address  \\\n0          4           0          Москва, улица Новый Арбат, 27   \n1          4           0          Москва, улица Новый Арбат, 27   \n2          4           0          Москва, улица Новый Арбат, 27   \n3          4           0       Москва, переулок Плотников, 21С1   \n4          2           0          Москва, улица Новый Арбат, 15   \n...      ...         ...                                    ...   \n19364      0           1         Москва, Боровское шоссе, 2к7,    \n19365      1           1  Москва, Производственная улица, 8к1,    \n19366      2           0           Москва, Боровский проезд, 11   \n19367      2           1         Москва, улица Богданова, 6к1,    \n19368      2           1         Москва, улица Богданова, 2к1,    \n\n       time_to_subway  time_to_subway_car  time_to_subway_total  total_square  \\\n0                   9                   0                     9           200   \n1                   8                   0                     8           198   \n2                   7                   0                     7           200   \n3                   3                   0                     3           170   \n4                   7                   0                     7            58   \n...               ...                 ...                   ...           ...   \n19364               8                   0                     8            35   \n19365               7                   0                     7            38   \n19366               6                   0                     6            43   \n19367              11                   0                    11            52   \n19368              10                   0                    10            90   \n\n       kitchen_square  ok_pets  ok_kids  ...  BrickMonolith_house  \\\n0                20.0        1        1  ...                    0   \n1                18.0        0        1  ...                    1   \n2                 4.0        0        1  ...                    0   \n3                17.0        1        0  ...                    0   \n4                 5.0        0        0  ...                    0   \n...               ...      ...      ...  ...                  ...   \n19364             8.0        0        0  ...                    0   \n19365            11.0        0        0  ...                    0   \n19366            43.1        0        1  ...                    0   \n19367            10.0        0        0  ...                    0   \n19368            15.5        1        1  ...                    0   \n\n       Monolith_house  Undefined_house  Panel_house  StalinType_house  \\\n0                   1                0            0                 0   \n1                   0                0            0                 0   \n2                   0                1            0                 0   \n3                   0                1            0                 0   \n4                   0                0            1                 0   \n...               ...              ...          ...               ...   \n19364               0                1            0                 0   \n19365               1                0            0                 0   \n19366               0                0            0                 0   \n19367               1                0            0                 0   \n19368               0                0            1                 0   \n\n       Shield_house OutdateFond_house  windowView_Во двор  \\\n0                 0                 0                   1   \n1                 0                 0                   0   \n2                 0                 0                   0   \n3                 0                 0                   0   \n4                 0                 0                   0   \n...             ...               ...                 ...   \n19364             0                 0                   1   \n19365             0                 0                   1   \n19366             0                 0                   0   \n19367             0                 0                   1   \n19368             0                 0                   1   \n\n       windowView_На улицу  windowView_На улицу и двор  \n0                        0                           0  \n1                        0                           1  \n2                        0                           1  \n3                        0                           1  \n4                        0                           1  \n...                    ...                         ...  \n19364                    0                           0  \n19365                    0                           0  \n19366                    0                           1  \n19367                    0                           0  \n19368                    0                           0  \n\n[19369 rows x 330 columns]",
      "text/html": "<div>\n<style scoped>\n    .dataframe tbody tr th:only-of-type {\n        vertical-align: middle;\n    }\n\n    .dataframe tbody tr th {\n        vertical-align: top;\n    }\n\n    .dataframe thead th {\n        text-align: right;\n    }\n</style>\n<table border=\"1\" class=\"dataframe\">\n  <thead>\n    <tr style=\"text-align: right;\">\n      <th></th>\n      <th>Rooms</th>\n      <th>Not_Moscow</th>\n      <th>New_address</th>\n      <th>time_to_subway</th>\n      <th>time_to_subway_car</th>\n      <th>time_to_subway_total</th>\n      <th>total_square</th>\n      <th>kitchen_square</th>\n      <th>ok_pets</th>\n      <th>ok_kids</th>\n      <th>...</th>\n      <th>BrickMonolith_house</th>\n      <th>Monolith_house</th>\n      <th>Undefined_house</th>\n      <th>Panel_house</th>\n      <th>StalinType_house</th>\n      <th>Shield_house</th>\n      <th>OutdateFond_house</th>\n      <th>windowView_Во двор</th>\n      <th>windowView_На улицу</th>\n      <th>windowView_На улицу и двор</th>\n    </tr>\n  </thead>\n  <tbody>\n    <tr>\n      <th>0</th>\n      <td>4</td>\n      <td>0</td>\n      <td>Москва, улица Новый Арбат, 27</td>\n      <td>9</td>\n      <td>0</td>\n      <td>9</td>\n      <td>200</td>\n      <td>20.0</td>\n      <td>1</td>\n      <td>1</td>\n      <td>...</td>\n      <td>0</td>\n      <td>1</td>\n      <td>0</td>\n      <td>0</td>\n      <td>0</td>\n      <td>0</td>\n      <td>0</td>\n      <td>1</td>\n      <td>0</td>\n      <td>0</td>\n    </tr>\n    <tr>\n      <th>1</th>\n      <td>4</td>\n      <td>0</td>\n      <td>Москва, улица Новый Арбат, 27</td>\n      <td>8</td>\n      <td>0</td>\n      <td>8</td>\n      <td>198</td>\n      <td>18.0</td>\n      <td>0</td>\n      <td>1</td>\n      <td>...</td>\n      <td>1</td>\n      <td>0</td>\n      <td>0</td>\n      <td>0</td>\n      <td>0</td>\n      <td>0</td>\n      <td>0</td>\n      <td>0</td>\n      <td>0</td>\n      <td>1</td>\n    </tr>\n    <tr>\n      <th>2</th>\n      <td>4</td>\n      <td>0</td>\n      <td>Москва, улица Новый Арбат, 27</td>\n      <td>7</td>\n      <td>0</td>\n      <td>7</td>\n      <td>200</td>\n      <td>4.0</td>\n      <td>0</td>\n      <td>1</td>\n      <td>...</td>\n      <td>0</td>\n      <td>0</td>\n      <td>1</td>\n      <td>0</td>\n      <td>0</td>\n      <td>0</td>\n      <td>0</td>\n      <td>0</td>\n      <td>0</td>\n      <td>1</td>\n    </tr>\n    <tr>\n      <th>3</th>\n      <td>4</td>\n      <td>0</td>\n      <td>Москва, переулок Плотников, 21С1</td>\n      <td>3</td>\n      <td>0</td>\n      <td>3</td>\n      <td>170</td>\n      <td>17.0</td>\n      <td>1</td>\n      <td>0</td>\n      <td>...</td>\n      <td>0</td>\n      <td>0</td>\n      <td>1</td>\n      <td>0</td>\n      <td>0</td>\n      <td>0</td>\n      <td>0</td>\n      <td>0</td>\n      <td>0</td>\n      <td>1</td>\n    </tr>\n    <tr>\n      <th>4</th>\n      <td>2</td>\n      <td>0</td>\n      <td>Москва, улица Новый Арбат, 15</td>\n      <td>7</td>\n      <td>0</td>\n      <td>7</td>\n      <td>58</td>\n      <td>5.0</td>\n      <td>0</td>\n      <td>0</td>\n      <td>...</td>\n      <td>0</td>\n      <td>0</td>\n      <td>0</td>\n      <td>1</td>\n      <td>0</td>\n      <td>0</td>\n      <td>0</td>\n      <td>0</td>\n      <td>0</td>\n      <td>1</td>\n    </tr>\n    <tr>\n      <th>...</th>\n      <td>...</td>\n      <td>...</td>\n      <td>...</td>\n      <td>...</td>\n      <td>...</td>\n      <td>...</td>\n      <td>...</td>\n      <td>...</td>\n      <td>...</td>\n      <td>...</td>\n      <td>...</td>\n      <td>...</td>\n      <td>...</td>\n      <td>...</td>\n      <td>...</td>\n      <td>...</td>\n      <td>...</td>\n      <td>...</td>\n      <td>...</td>\n      <td>...</td>\n      <td>...</td>\n    </tr>\n    <tr>\n      <th>19364</th>\n      <td>0</td>\n      <td>1</td>\n      <td>Москва, Боровское шоссе, 2к7,</td>\n      <td>8</td>\n      <td>0</td>\n      <td>8</td>\n      <td>35</td>\n      <td>8.0</td>\n      <td>0</td>\n      <td>0</td>\n      <td>...</td>\n      <td>0</td>\n      <td>0</td>\n      <td>1</td>\n      <td>0</td>\n      <td>0</td>\n      <td>0</td>\n      <td>0</td>\n      <td>1</td>\n      <td>0</td>\n      <td>0</td>\n    </tr>\n    <tr>\n      <th>19365</th>\n      <td>1</td>\n      <td>1</td>\n      <td>Москва, Производственная улица, 8к1,</td>\n      <td>7</td>\n      <td>0</td>\n      <td>7</td>\n      <td>38</td>\n      <td>11.0</td>\n      <td>0</td>\n      <td>0</td>\n      <td>...</td>\n      <td>0</td>\n      <td>1</td>\n      <td>0</td>\n      <td>0</td>\n      <td>0</td>\n      <td>0</td>\n      <td>0</td>\n      <td>1</td>\n      <td>0</td>\n      <td>0</td>\n    </tr>\n    <tr>\n      <th>19366</th>\n      <td>2</td>\n      <td>0</td>\n      <td>Москва, Боровский проезд, 11</td>\n      <td>6</td>\n      <td>0</td>\n      <td>6</td>\n      <td>43</td>\n      <td>43.1</td>\n      <td>0</td>\n      <td>1</td>\n      <td>...</td>\n      <td>0</td>\n      <td>0</td>\n      <td>0</td>\n      <td>0</td>\n      <td>0</td>\n      <td>0</td>\n      <td>0</td>\n      <td>0</td>\n      <td>0</td>\n      <td>1</td>\n    </tr>\n    <tr>\n      <th>19367</th>\n      <td>2</td>\n      <td>1</td>\n      <td>Москва, улица Богданова, 6к1,</td>\n      <td>11</td>\n      <td>0</td>\n      <td>11</td>\n      <td>52</td>\n      <td>10.0</td>\n      <td>0</td>\n      <td>0</td>\n      <td>...</td>\n      <td>0</td>\n      <td>1</td>\n      <td>0</td>\n      <td>0</td>\n      <td>0</td>\n      <td>0</td>\n      <td>0</td>\n      <td>1</td>\n      <td>0</td>\n      <td>0</td>\n    </tr>\n    <tr>\n      <th>19368</th>\n      <td>2</td>\n      <td>1</td>\n      <td>Москва, улица Богданова, 2к1,</td>\n      <td>10</td>\n      <td>0</td>\n      <td>10</td>\n      <td>90</td>\n      <td>15.5</td>\n      <td>1</td>\n      <td>1</td>\n      <td>...</td>\n      <td>0</td>\n      <td>0</td>\n      <td>0</td>\n      <td>1</td>\n      <td>0</td>\n      <td>0</td>\n      <td>0</td>\n      <td>1</td>\n      <td>0</td>\n      <td>0</td>\n    </tr>\n  </tbody>\n</table>\n<p>19369 rows × 330 columns</p>\n</div>"
     },
     "execution_count": 58,
     "metadata": {},
     "output_type": "execute_result"
    }
   ],
   "source": [
    "# выход окон в бин систему\n",
    "win = pd.get_dummies(df['windows'], prefix='windowView')\n",
    "win = win.rename(columns={'WindowView_Во двор':'WindowView_backyard','WindowView_На улицу':'WindowView_street','WindowView_На улицу и двор':'WindowView_both'})\n",
    "win = win.astype(int)\n",
    "df = pd.concat([df, win], axis=1)\n",
    "df = df.drop(['windows'], axis=1)\n",
    "df"
   ],
   "metadata": {
    "collapsed": false,
    "ExecuteTime": {
     "end_time": "2023-07-07T12:17:24.695687220Z",
     "start_time": "2023-07-07T12:17:24.664038194Z"
    }
   }
  },
  {
   "cell_type": "code",
   "execution_count": 59,
   "outputs": [],
   "source": [
    "# удаляем ненужные колонки\n",
    "df=df.drop(['time_to_subway','time_to_subway_car'], axis=1)"
   ],
   "metadata": {
    "collapsed": false,
    "ExecuteTime": {
     "end_time": "2023-07-07T12:17:24.727081316Z",
     "start_time": "2023-07-07T12:17:24.703432792Z"
    }
   }
  },
  {
   "cell_type": "code",
   "execution_count": 60,
   "outputs": [
    {
     "data": {
      "text/plain": "       Rooms  Not_Moscow                            New_address  \\\n0          4           0          Москва, улица Новый Арбат, 27   \n1          4           0          Москва, улица Новый Арбат, 27   \n2          4           0          Москва, улица Новый Арбат, 27   \n3          4           0       Москва, переулок Плотников, 21С1   \n4          2           0          Москва, улица Новый Арбат, 15   \n...      ...         ...                                    ...   \n19364      0           1         Москва, Боровское шоссе, 2к7,    \n19365      1           1  Москва, Производственная улица, 8к1,    \n19366      2           0           Москва, Боровский проезд, 11   \n19367      2           1         Москва, улица Богданова, 6к1,    \n19368      2           1         Москва, улица Богданова, 2к1,    \n\n       time_to_subway_total  total_square  kitchen_square  ok_pets  ok_kids  \\\n0                         9           200            20.0        1        1   \n1                         8           198            18.0        0        1   \n2                         7           200             4.0        0        1   \n3                         3           170            17.0        1        0   \n4                         7            58             5.0        0        0   \n...                     ...           ...             ...      ...      ...   \n19364                     8            35             8.0        0        0   \n19365                     7            38            11.0        0        0   \n19366                     6            43            43.1        0        1   \n19367                    11            52            10.0        0        0   \n19368                    10            90            15.5        1        1   \n\n       Balconies  Loggies  ...  Undefined_house  Panel_house  \\\n0       1.076578  1.11196  ...                0            0   \n1       1.076578  1.11196  ...                0            0   \n2       1.076578  1.11196  ...                1            0   \n3       1.076578  1.11196  ...                1            0   \n4       1.076578  1.11196  ...                0            1   \n...          ...      ...  ...              ...          ...   \n19364   1.000000  1.11196  ...                1            0   \n19365   1.076578  1.00000  ...                0            0   \n19366   1.000000  1.11196  ...                0            0   \n19367   1.076578  1.00000  ...                0            0   \n19368   1.076578  1.00000  ...                0            1   \n\n       StalinType_house  Shield_house  OutdateFond_house  windowView_Во двор  \\\n0                     0             0                  0                   1   \n1                     0             0                  0                   0   \n2                     0             0                  0                   0   \n3                     0             0                  0                   0   \n4                     0             0                  0                   0   \n...                 ...           ...                ...                 ...   \n19364                 0             0                  0                   1   \n19365                 0             0                  0                   1   \n19366                 0             0                  0                   0   \n19367                 0             0                  0                   1   \n19368                 0             0                  0                   1   \n\n       windowView_На улицу  windowView_На улицу и двор  parking_free  \\\n0                        0                           0             0   \n1                        0                           1             0   \n2                        0                           1             0   \n3                        0                           1             0   \n4                        0                           1             1   \n...                    ...                         ...           ...   \n19364                    0                           0             1   \n19365                    0                           0             1   \n19366                    0                           1             1   \n19367                    0                           0             0   \n19368                    0                           0             1   \n\n       parking_fee  \n0                1  \n1                1  \n2                1  \n3                1  \n4                0  \n...            ...  \n19364            0  \n19365            0  \n19366            0  \n19367            1  \n19368            0  \n\n[19369 rows x 329 columns]",
      "text/html": "<div>\n<style scoped>\n    .dataframe tbody tr th:only-of-type {\n        vertical-align: middle;\n    }\n\n    .dataframe tbody tr th {\n        vertical-align: top;\n    }\n\n    .dataframe thead th {\n        text-align: right;\n    }\n</style>\n<table border=\"1\" class=\"dataframe\">\n  <thead>\n    <tr style=\"text-align: right;\">\n      <th></th>\n      <th>Rooms</th>\n      <th>Not_Moscow</th>\n      <th>New_address</th>\n      <th>time_to_subway_total</th>\n      <th>total_square</th>\n      <th>kitchen_square</th>\n      <th>ok_pets</th>\n      <th>ok_kids</th>\n      <th>Balconies</th>\n      <th>Loggies</th>\n      <th>...</th>\n      <th>Undefined_house</th>\n      <th>Panel_house</th>\n      <th>StalinType_house</th>\n      <th>Shield_house</th>\n      <th>OutdateFond_house</th>\n      <th>windowView_Во двор</th>\n      <th>windowView_На улицу</th>\n      <th>windowView_На улицу и двор</th>\n      <th>parking_free</th>\n      <th>parking_fee</th>\n    </tr>\n  </thead>\n  <tbody>\n    <tr>\n      <th>0</th>\n      <td>4</td>\n      <td>0</td>\n      <td>Москва, улица Новый Арбат, 27</td>\n      <td>9</td>\n      <td>200</td>\n      <td>20.0</td>\n      <td>1</td>\n      <td>1</td>\n      <td>1.076578</td>\n      <td>1.11196</td>\n      <td>...</td>\n      <td>0</td>\n      <td>0</td>\n      <td>0</td>\n      <td>0</td>\n      <td>0</td>\n      <td>1</td>\n      <td>0</td>\n      <td>0</td>\n      <td>0</td>\n      <td>1</td>\n    </tr>\n    <tr>\n      <th>1</th>\n      <td>4</td>\n      <td>0</td>\n      <td>Москва, улица Новый Арбат, 27</td>\n      <td>8</td>\n      <td>198</td>\n      <td>18.0</td>\n      <td>0</td>\n      <td>1</td>\n      <td>1.076578</td>\n      <td>1.11196</td>\n      <td>...</td>\n      <td>0</td>\n      <td>0</td>\n      <td>0</td>\n      <td>0</td>\n      <td>0</td>\n      <td>0</td>\n      <td>0</td>\n      <td>1</td>\n      <td>0</td>\n      <td>1</td>\n    </tr>\n    <tr>\n      <th>2</th>\n      <td>4</td>\n      <td>0</td>\n      <td>Москва, улица Новый Арбат, 27</td>\n      <td>7</td>\n      <td>200</td>\n      <td>4.0</td>\n      <td>0</td>\n      <td>1</td>\n      <td>1.076578</td>\n      <td>1.11196</td>\n      <td>...</td>\n      <td>1</td>\n      <td>0</td>\n      <td>0</td>\n      <td>0</td>\n      <td>0</td>\n      <td>0</td>\n      <td>0</td>\n      <td>1</td>\n      <td>0</td>\n      <td>1</td>\n    </tr>\n    <tr>\n      <th>3</th>\n      <td>4</td>\n      <td>0</td>\n      <td>Москва, переулок Плотников, 21С1</td>\n      <td>3</td>\n      <td>170</td>\n      <td>17.0</td>\n      <td>1</td>\n      <td>0</td>\n      <td>1.076578</td>\n      <td>1.11196</td>\n      <td>...</td>\n      <td>1</td>\n      <td>0</td>\n      <td>0</td>\n      <td>0</td>\n      <td>0</td>\n      <td>0</td>\n      <td>0</td>\n      <td>1</td>\n      <td>0</td>\n      <td>1</td>\n    </tr>\n    <tr>\n      <th>4</th>\n      <td>2</td>\n      <td>0</td>\n      <td>Москва, улица Новый Арбат, 15</td>\n      <td>7</td>\n      <td>58</td>\n      <td>5.0</td>\n      <td>0</td>\n      <td>0</td>\n      <td>1.076578</td>\n      <td>1.11196</td>\n      <td>...</td>\n      <td>0</td>\n      <td>1</td>\n      <td>0</td>\n      <td>0</td>\n      <td>0</td>\n      <td>0</td>\n      <td>0</td>\n      <td>1</td>\n      <td>1</td>\n      <td>0</td>\n    </tr>\n    <tr>\n      <th>...</th>\n      <td>...</td>\n      <td>...</td>\n      <td>...</td>\n      <td>...</td>\n      <td>...</td>\n      <td>...</td>\n      <td>...</td>\n      <td>...</td>\n      <td>...</td>\n      <td>...</td>\n      <td>...</td>\n      <td>...</td>\n      <td>...</td>\n      <td>...</td>\n      <td>...</td>\n      <td>...</td>\n      <td>...</td>\n      <td>...</td>\n      <td>...</td>\n      <td>...</td>\n      <td>...</td>\n    </tr>\n    <tr>\n      <th>19364</th>\n      <td>0</td>\n      <td>1</td>\n      <td>Москва, Боровское шоссе, 2к7,</td>\n      <td>8</td>\n      <td>35</td>\n      <td>8.0</td>\n      <td>0</td>\n      <td>0</td>\n      <td>1.000000</td>\n      <td>1.11196</td>\n      <td>...</td>\n      <td>1</td>\n      <td>0</td>\n      <td>0</td>\n      <td>0</td>\n      <td>0</td>\n      <td>1</td>\n      <td>0</td>\n      <td>0</td>\n      <td>1</td>\n      <td>0</td>\n    </tr>\n    <tr>\n      <th>19365</th>\n      <td>1</td>\n      <td>1</td>\n      <td>Москва, Производственная улица, 8к1,</td>\n      <td>7</td>\n      <td>38</td>\n      <td>11.0</td>\n      <td>0</td>\n      <td>0</td>\n      <td>1.076578</td>\n      <td>1.00000</td>\n      <td>...</td>\n      <td>0</td>\n      <td>0</td>\n      <td>0</td>\n      <td>0</td>\n      <td>0</td>\n      <td>1</td>\n      <td>0</td>\n      <td>0</td>\n      <td>1</td>\n      <td>0</td>\n    </tr>\n    <tr>\n      <th>19366</th>\n      <td>2</td>\n      <td>0</td>\n      <td>Москва, Боровский проезд, 11</td>\n      <td>6</td>\n      <td>43</td>\n      <td>43.1</td>\n      <td>0</td>\n      <td>1</td>\n      <td>1.000000</td>\n      <td>1.11196</td>\n      <td>...</td>\n      <td>0</td>\n      <td>0</td>\n      <td>0</td>\n      <td>0</td>\n      <td>0</td>\n      <td>0</td>\n      <td>0</td>\n      <td>1</td>\n      <td>1</td>\n      <td>0</td>\n    </tr>\n    <tr>\n      <th>19367</th>\n      <td>2</td>\n      <td>1</td>\n      <td>Москва, улица Богданова, 6к1,</td>\n      <td>11</td>\n      <td>52</td>\n      <td>10.0</td>\n      <td>0</td>\n      <td>0</td>\n      <td>1.076578</td>\n      <td>1.00000</td>\n      <td>...</td>\n      <td>0</td>\n      <td>0</td>\n      <td>0</td>\n      <td>0</td>\n      <td>0</td>\n      <td>1</td>\n      <td>0</td>\n      <td>0</td>\n      <td>0</td>\n      <td>1</td>\n    </tr>\n    <tr>\n      <th>19368</th>\n      <td>2</td>\n      <td>1</td>\n      <td>Москва, улица Богданова, 2к1,</td>\n      <td>10</td>\n      <td>90</td>\n      <td>15.5</td>\n      <td>1</td>\n      <td>1</td>\n      <td>1.076578</td>\n      <td>1.00000</td>\n      <td>...</td>\n      <td>0</td>\n      <td>1</td>\n      <td>0</td>\n      <td>0</td>\n      <td>0</td>\n      <td>1</td>\n      <td>0</td>\n      <td>0</td>\n      <td>1</td>\n      <td>0</td>\n    </tr>\n  </tbody>\n</table>\n<p>19369 rows × 329 columns</p>\n</div>"
     },
     "execution_count": 60,
     "metadata": {},
     "output_type": "execute_result"
    }
   ],
   "source": [
    "# парковка в бин систему\n",
    "park = pd.get_dummies(df['Parking'], prefix='parking')\n",
    "park = park.rename(columns={'parking_бесплатная во дворе':'parking_free','parking_платная во дворе':'parking_fee'})\n",
    "park = park.astype(int)\n",
    "df = pd.concat([df, park], axis=1)\n",
    "df = df.drop(['Parking'], axis=1)\n",
    "df"
   ],
   "metadata": {
    "collapsed": false,
    "ExecuteTime": {
     "end_time": "2023-07-07T12:17:24.836540108Z",
     "start_time": "2023-07-07T12:17:24.708079676Z"
    }
   }
  },
  {
   "cell_type": "code",
   "execution_count": 61,
   "outputs": [],
   "source": [
    "df['Rent_length'] = df['Rent_length'].astype(int)\n",
    "df['Prepay'] = df['Prepay'].astype(int)\n",
    "df['Utilities'] = df['Utilities'].astype(int)#длительность аренды,предоплата и ком услуги"
   ],
   "metadata": {
    "collapsed": false,
    "ExecuteTime": {
     "end_time": "2023-07-07T12:17:24.836952734Z",
     "start_time": "2023-07-07T12:17:24.773724473Z"
    }
   }
  },
  {
   "cell_type": "code",
   "execution_count": 62,
   "outputs": [
    {
     "data": {
      "text/plain": "       Rooms  Not_Moscow                            New_address  \\\n0          4           0          Москва, улица Новый Арбат, 27   \n1          4           0          Москва, улица Новый Арбат, 27   \n2          4           0          Москва, улица Новый Арбат, 27   \n3          4           0       Москва, переулок Плотников, 21С1   \n4          2           0          Москва, улица Новый Арбат, 15   \n...      ...         ...                                    ...   \n19364      0           1         Москва, Боровское шоссе, 2к7,    \n19365      1           1  Москва, Производственная улица, 8к1,    \n19366      2           0           Москва, Боровский проезд, 11   \n19367      2           1         Москва, улица Богданова, 6к1,    \n19368      2           1         Москва, улица Богданова, 2к1,    \n\n       time_to_subway_total  total_square  kitchen_square  ok_pets  ok_kids  \\\n0                         9           200            20.0        1        1   \n1                         8           198            18.0        0        1   \n2                         7           200             4.0        0        1   \n3                         3           170            17.0        1        0   \n4                         7            58             5.0        0        0   \n...                     ...           ...             ...      ...      ...   \n19364                     8            35             8.0        0        0   \n19365                     7            38            11.0        0        0   \n19366                     6            43            43.1        0        1   \n19367                    11            52            10.0        0        0   \n19368                    10            90            15.5        1        1   \n\n       Balconies  Loggies  ...  StalinType_house  Shield_house  \\\n0       1.076578  1.11196  ...                 0             0   \n1       1.076578  1.11196  ...                 0             0   \n2       1.076578  1.11196  ...                 0             0   \n3       1.076578  1.11196  ...                 0             0   \n4       1.076578  1.11196  ...                 0             0   \n...          ...      ...  ...               ...           ...   \n19364   1.000000  1.11196  ...                 0             0   \n19365   1.076578  1.00000  ...                 0             0   \n19366   1.000000  1.11196  ...                 0             0   \n19367   1.076578  1.00000  ...                 0             0   \n19368   1.076578  1.00000  ...                 0             0   \n\n       OutdateFond_house  windowView_Во двор  windowView_На улицу  \\\n0                      0                   1                    0   \n1                      0                   0                    0   \n2                      0                   0                    0   \n3                      0                   0                    0   \n4                      0                   0                    0   \n...                  ...                 ...                  ...   \n19364                  0                   1                    0   \n19365                  0                   1                    0   \n19366                  0                   0                    0   \n19367                  0                   1                    0   \n19368                  0                   1                    0   \n\n       windowView_На улицу и двор  parking_free  parking_fee  \\\n0                               0             0            1   \n1                               1             0            1   \n2                               1             0            1   \n3                               1             0            1   \n4                               1             1            0   \n...                           ...           ...          ...   \n19364                           0             1            0   \n19365                           0             1            0   \n19366                           1             1            0   \n19367                           0             0            1   \n19368                           0             1            0   \n\n       garbageDisposal_Да  garbageDisposal_Нет  \n0                       1                    0  \n1                       0                    1  \n2                       0                    1  \n3                       0                    1  \n4                       1                    0  \n...                   ...                  ...  \n19364                   0                    1  \n19365                   0                    1  \n19366                   0                    1  \n19367                   1                    0  \n19368                   1                    0  \n\n[19369 rows x 330 columns]",
      "text/html": "<div>\n<style scoped>\n    .dataframe tbody tr th:only-of-type {\n        vertical-align: middle;\n    }\n\n    .dataframe tbody tr th {\n        vertical-align: top;\n    }\n\n    .dataframe thead th {\n        text-align: right;\n    }\n</style>\n<table border=\"1\" class=\"dataframe\">\n  <thead>\n    <tr style=\"text-align: right;\">\n      <th></th>\n      <th>Rooms</th>\n      <th>Not_Moscow</th>\n      <th>New_address</th>\n      <th>time_to_subway_total</th>\n      <th>total_square</th>\n      <th>kitchen_square</th>\n      <th>ok_pets</th>\n      <th>ok_kids</th>\n      <th>Balconies</th>\n      <th>Loggies</th>\n      <th>...</th>\n      <th>StalinType_house</th>\n      <th>Shield_house</th>\n      <th>OutdateFond_house</th>\n      <th>windowView_Во двор</th>\n      <th>windowView_На улицу</th>\n      <th>windowView_На улицу и двор</th>\n      <th>parking_free</th>\n      <th>parking_fee</th>\n      <th>garbageDisposal_Да</th>\n      <th>garbageDisposal_Нет</th>\n    </tr>\n  </thead>\n  <tbody>\n    <tr>\n      <th>0</th>\n      <td>4</td>\n      <td>0</td>\n      <td>Москва, улица Новый Арбат, 27</td>\n      <td>9</td>\n      <td>200</td>\n      <td>20.0</td>\n      <td>1</td>\n      <td>1</td>\n      <td>1.076578</td>\n      <td>1.11196</td>\n      <td>...</td>\n      <td>0</td>\n      <td>0</td>\n      <td>0</td>\n      <td>1</td>\n      <td>0</td>\n      <td>0</td>\n      <td>0</td>\n      <td>1</td>\n      <td>1</td>\n      <td>0</td>\n    </tr>\n    <tr>\n      <th>1</th>\n      <td>4</td>\n      <td>0</td>\n      <td>Москва, улица Новый Арбат, 27</td>\n      <td>8</td>\n      <td>198</td>\n      <td>18.0</td>\n      <td>0</td>\n      <td>1</td>\n      <td>1.076578</td>\n      <td>1.11196</td>\n      <td>...</td>\n      <td>0</td>\n      <td>0</td>\n      <td>0</td>\n      <td>0</td>\n      <td>0</td>\n      <td>1</td>\n      <td>0</td>\n      <td>1</td>\n      <td>0</td>\n      <td>1</td>\n    </tr>\n    <tr>\n      <th>2</th>\n      <td>4</td>\n      <td>0</td>\n      <td>Москва, улица Новый Арбат, 27</td>\n      <td>7</td>\n      <td>200</td>\n      <td>4.0</td>\n      <td>0</td>\n      <td>1</td>\n      <td>1.076578</td>\n      <td>1.11196</td>\n      <td>...</td>\n      <td>0</td>\n      <td>0</td>\n      <td>0</td>\n      <td>0</td>\n      <td>0</td>\n      <td>1</td>\n      <td>0</td>\n      <td>1</td>\n      <td>0</td>\n      <td>1</td>\n    </tr>\n    <tr>\n      <th>3</th>\n      <td>4</td>\n      <td>0</td>\n      <td>Москва, переулок Плотников, 21С1</td>\n      <td>3</td>\n      <td>170</td>\n      <td>17.0</td>\n      <td>1</td>\n      <td>0</td>\n      <td>1.076578</td>\n      <td>1.11196</td>\n      <td>...</td>\n      <td>0</td>\n      <td>0</td>\n      <td>0</td>\n      <td>0</td>\n      <td>0</td>\n      <td>1</td>\n      <td>0</td>\n      <td>1</td>\n      <td>0</td>\n      <td>1</td>\n    </tr>\n    <tr>\n      <th>4</th>\n      <td>2</td>\n      <td>0</td>\n      <td>Москва, улица Новый Арбат, 15</td>\n      <td>7</td>\n      <td>58</td>\n      <td>5.0</td>\n      <td>0</td>\n      <td>0</td>\n      <td>1.076578</td>\n      <td>1.11196</td>\n      <td>...</td>\n      <td>0</td>\n      <td>0</td>\n      <td>0</td>\n      <td>0</td>\n      <td>0</td>\n      <td>1</td>\n      <td>1</td>\n      <td>0</td>\n      <td>1</td>\n      <td>0</td>\n    </tr>\n    <tr>\n      <th>...</th>\n      <td>...</td>\n      <td>...</td>\n      <td>...</td>\n      <td>...</td>\n      <td>...</td>\n      <td>...</td>\n      <td>...</td>\n      <td>...</td>\n      <td>...</td>\n      <td>...</td>\n      <td>...</td>\n      <td>...</td>\n      <td>...</td>\n      <td>...</td>\n      <td>...</td>\n      <td>...</td>\n      <td>...</td>\n      <td>...</td>\n      <td>...</td>\n      <td>...</td>\n      <td>...</td>\n    </tr>\n    <tr>\n      <th>19364</th>\n      <td>0</td>\n      <td>1</td>\n      <td>Москва, Боровское шоссе, 2к7,</td>\n      <td>8</td>\n      <td>35</td>\n      <td>8.0</td>\n      <td>0</td>\n      <td>0</td>\n      <td>1.000000</td>\n      <td>1.11196</td>\n      <td>...</td>\n      <td>0</td>\n      <td>0</td>\n      <td>0</td>\n      <td>1</td>\n      <td>0</td>\n      <td>0</td>\n      <td>1</td>\n      <td>0</td>\n      <td>0</td>\n      <td>1</td>\n    </tr>\n    <tr>\n      <th>19365</th>\n      <td>1</td>\n      <td>1</td>\n      <td>Москва, Производственная улица, 8к1,</td>\n      <td>7</td>\n      <td>38</td>\n      <td>11.0</td>\n      <td>0</td>\n      <td>0</td>\n      <td>1.076578</td>\n      <td>1.00000</td>\n      <td>...</td>\n      <td>0</td>\n      <td>0</td>\n      <td>0</td>\n      <td>1</td>\n      <td>0</td>\n      <td>0</td>\n      <td>1</td>\n      <td>0</td>\n      <td>0</td>\n      <td>1</td>\n    </tr>\n    <tr>\n      <th>19366</th>\n      <td>2</td>\n      <td>0</td>\n      <td>Москва, Боровский проезд, 11</td>\n      <td>6</td>\n      <td>43</td>\n      <td>43.1</td>\n      <td>0</td>\n      <td>1</td>\n      <td>1.000000</td>\n      <td>1.11196</td>\n      <td>...</td>\n      <td>0</td>\n      <td>0</td>\n      <td>0</td>\n      <td>0</td>\n      <td>0</td>\n      <td>1</td>\n      <td>1</td>\n      <td>0</td>\n      <td>0</td>\n      <td>1</td>\n    </tr>\n    <tr>\n      <th>19367</th>\n      <td>2</td>\n      <td>1</td>\n      <td>Москва, улица Богданова, 6к1,</td>\n      <td>11</td>\n      <td>52</td>\n      <td>10.0</td>\n      <td>0</td>\n      <td>0</td>\n      <td>1.076578</td>\n      <td>1.00000</td>\n      <td>...</td>\n      <td>0</td>\n      <td>0</td>\n      <td>0</td>\n      <td>1</td>\n      <td>0</td>\n      <td>0</td>\n      <td>0</td>\n      <td>1</td>\n      <td>1</td>\n      <td>0</td>\n    </tr>\n    <tr>\n      <th>19368</th>\n      <td>2</td>\n      <td>1</td>\n      <td>Москва, улица Богданова, 2к1,</td>\n      <td>10</td>\n      <td>90</td>\n      <td>15.5</td>\n      <td>1</td>\n      <td>1</td>\n      <td>1.076578</td>\n      <td>1.00000</td>\n      <td>...</td>\n      <td>0</td>\n      <td>0</td>\n      <td>0</td>\n      <td>1</td>\n      <td>0</td>\n      <td>0</td>\n      <td>1</td>\n      <td>0</td>\n      <td>1</td>\n      <td>0</td>\n    </tr>\n  </tbody>\n</table>\n<p>19369 rows × 330 columns</p>\n</div>"
     },
     "execution_count": 62,
     "metadata": {},
     "output_type": "execute_result"
    }
   ],
   "source": [
    "# мусоропровод\n",
    "gs = pd.get_dummies(df['Garbage_disposal'], prefix='garbageDisposal')\n",
    "gs = gs.astype(int)\n",
    "gs = gs.rename(columns={'GarbageDisposal_Да':'GarbageDisposal_Yes','GarbageDisposal_Нет':'GarbageDisposal_No'})\n",
    "df = pd.concat([df, gs], axis=1)\n",
    "df = df.drop(['Garbage_disposal'], axis=1)\n",
    "df"
   ],
   "metadata": {
    "collapsed": false,
    "ExecuteTime": {
     "end_time": "2023-07-07T12:17:24.854619544Z",
     "start_time": "2023-07-07T12:17:24.774217871Z"
    }
   }
  },
  {
   "cell_type": "code",
   "execution_count": 63,
   "outputs": [],
   "source": [
    "# ремонт\n",
    "mnt = pd.get_dummies(df['maintenance'], prefix='maintenance')\n",
    "mnt = mnt.astype(int)\n",
    "mnt = mnt.rename(columns={'maintenance_Без ремонта':'maintenance_no','maintenance_Дизайнерский':'maintenance_designer','maintenance_Евроремонт':'maintenance_Euro','maintenance_Косметический':'maintenance_cosmetic'})\n",
    "df = pd.concat([df, mnt], axis=1)\n",
    "df=df.drop(['New_address','maintenance'], axis=1)#сбрасываем лишние колонки"
   ],
   "metadata": {
    "collapsed": false,
    "ExecuteTime": {
     "end_time": "2023-07-07T12:17:24.855491154Z",
     "start_time": "2023-07-07T12:17:24.818062683Z"
    }
   }
  },
  {
   "cell_type": "code",
   "execution_count": 65,
   "outputs": [],
   "source": [
    "df.to_csv('data.csv', index=False)"
   ],
   "metadata": {
    "collapsed": false,
    "ExecuteTime": {
     "end_time": "2023-07-07T12:17:25.738019619Z",
     "start_time": "2023-07-07T12:17:24.850406868Z"
    }
   }
  },
  {
   "cell_type": "code",
   "execution_count": 65,
   "outputs": [],
   "source": [],
   "metadata": {
    "collapsed": false,
    "ExecuteTime": {
     "end_time": "2023-07-07T12:17:25.740519943Z",
     "start_time": "2023-07-07T12:17:25.738393372Z"
    }
   }
  }
 ],
 "metadata": {
  "kernelspec": {
   "display_name": "Python 3",
   "language": "python",
   "name": "python3"
  },
  "language_info": {
   "codemirror_mode": {
    "name": "ipython",
    "version": 2
   },
   "file_extension": ".py",
   "mimetype": "text/x-python",
   "name": "python",
   "nbconvert_exporter": "python",
   "pygments_lexer": "ipython2",
   "version": "2.7.6"
  }
 },
 "nbformat": 4,
 "nbformat_minor": 0
}
